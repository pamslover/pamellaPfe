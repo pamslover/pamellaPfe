{
 "cells": [
  {
   "cell_type": "code",
   "execution_count": 1,
   "metadata": {
    "collapsed": true
   },
   "outputs": [],
   "source": [
    "import pandas as pd\n",
    "from core.helpers import yakeHelperFunctions as yhf"
   ]
  },
  {
   "cell_type": "code",
   "execution_count": 2,
   "outputs": [],
   "source": [
    "data_job = pd.read_csv(\"dataset/job.csv\")"
   ],
   "metadata": {
    "collapsed": false,
    "pycharm": {
     "name": "#%%\n"
    }
   }
  },
  {
   "cell_type": "code",
   "execution_count": 45,
   "outputs": [],
   "source": [
    "vectors = pd.read_csv(\"word2vec.model\", delim_whitespace=True, skiprows=[0], header=None)\n"
   ],
   "metadata": {
    "collapsed": false,
    "pycharm": {
     "name": "#%%\n"
    }
   }
  },
  {
   "cell_type": "code",
   "execution_count": 25,
   "outputs": [],
   "source": [
    "# set words as index rather than first column\n",
    "vectors.index = vectors[0]\n",
    "vectors.drop(0,axis=1, inplace=True)"
   ],
   "metadata": {
    "collapsed": false,
    "pycharm": {
     "name": "#%%\n"
    }
   }
  },
  {
   "cell_type": "code",
   "execution_count": null,
   "outputs": [],
   "source": [],
   "metadata": {
    "collapsed": false,
    "pycharm": {
     "name": "#%%\n"
    }
   }
  },
  {
   "cell_type": "code",
   "execution_count": 12,
   "outputs": [
    {
     "data": {
      "text/plain": "(8165, 1)"
     },
     "execution_count": 12,
     "metadata": {},
     "output_type": "execute_result"
    }
   ],
   "source": [
    "data_job.shape"
   ],
   "metadata": {
    "collapsed": false,
    "pycharm": {
     "name": "#%%\n"
    }
   }
  },
  {
   "cell_type": "markdown",
   "source": [
    "# make the sample of 15% of original data"
   ],
   "metadata": {
    "collapsed": false,
    "pycharm": {
     "name": "#%% md\n"
    }
   }
  },
  {
   "cell_type": "code",
   "execution_count": 13,
   "outputs": [],
   "source": [
    "samples_data = data_job.job.sample(frac=.15, random_state=45).astype(str)"
   ],
   "metadata": {
    "collapsed": false,
    "pycharm": {
     "name": "#%%\n"
    }
   }
  },
  {
   "cell_type": "markdown",
   "source": [
    "# extract keywords & tokenize"
   ],
   "metadata": {
    "collapsed": false,
    "pycharm": {
     "name": "#%% md\n"
    }
   }
  },
  {
   "cell_type": "code",
   "execution_count": 19,
   "outputs": [],
   "source": [
    "keywords = yhf.keywords_yake(samples_data)\n",
    "keywords_tokenized = yhf.tokenizing_after_yake(keywords)\n",
    "keywords_set = [ set(job) for job in keywords_tokenized]"
   ],
   "metadata": {
    "collapsed": false,
    "pycharm": {
     "name": "#%%\n"
    }
   }
  },
  {
   "cell_type": "markdown",
   "source": [
    "# get word vectors  for keywords in jobs description"
   ],
   "metadata": {
    "collapsed": false,
    "pycharm": {
     "name": "#%% md\n"
    }
   }
  },
  {
   "cell_type": "code",
   "execution_count": 38,
   "outputs": [
    {
     "data": {
      "text/plain": "   0         1         2         3         4         5         6         7    \\\n0   de -0.189453  0.181641  0.335938 -0.024048 -0.069824  0.075195  0.128906   \n1   et  1.476465  0.650921  1.125034 -0.641027  2.133230  1.009610  0.522009   \n2  des  0.074707  0.112793  0.251953 -0.172852 -0.011658  0.233398  0.349609   \n3   la  2.521357  0.398546  0.327319 -0.384584  0.468277  0.268836  0.918718   \n4  les -0.120117  0.095703  0.168945 -0.030273  0.119141  0.147461  0.086426   \n\n        8         9    ...       291       292       293       294       295  \\\n0 -0.341797 -0.074707  ...  0.000546 -0.017822 -0.060059  0.343750 -0.184570   \n1  0.281066 -1.012411  ...  0.992428  0.372222  1.381234 -0.745683  0.519218   \n2 -0.219727 -0.060059  ... -0.023071  0.152344  0.111816  0.064453 -0.237305   \n3  1.271349 -2.448235  ...  1.211048 -0.172852  1.216892  1.828425  0.227053   \n4 -0.168945  0.051758  ...  0.182617  0.168945 -0.104492  0.033203 -0.488281   \n\n        296       297       298       299       300  \n0  0.112305  0.148438  0.116699  0.056885  0.105469  \n1  0.505964 -0.132756  0.549315  1.261921  0.157704  \n2  0.000614  0.107422  0.141602 -0.036377  0.337891  \n3  0.490466  0.163657  0.464512  0.553507  1.263063  \n4 -0.053223  0.134766 -0.027832  0.087891  0.289062  \n\n[5 rows x 301 columns]",
      "text/html": "<div>\n<style scoped>\n    .dataframe tbody tr th:only-of-type {\n        vertical-align: middle;\n    }\n\n    .dataframe tbody tr th {\n        vertical-align: top;\n    }\n\n    .dataframe thead th {\n        text-align: right;\n    }\n</style>\n<table border=\"1\" class=\"dataframe\">\n  <thead>\n    <tr style=\"text-align: right;\">\n      <th></th>\n      <th>0</th>\n      <th>1</th>\n      <th>2</th>\n      <th>3</th>\n      <th>4</th>\n      <th>5</th>\n      <th>6</th>\n      <th>7</th>\n      <th>8</th>\n      <th>9</th>\n      <th>...</th>\n      <th>291</th>\n      <th>292</th>\n      <th>293</th>\n      <th>294</th>\n      <th>295</th>\n      <th>296</th>\n      <th>297</th>\n      <th>298</th>\n      <th>299</th>\n      <th>300</th>\n    </tr>\n  </thead>\n  <tbody>\n    <tr>\n      <th>0</th>\n      <td>de</td>\n      <td>-0.189453</td>\n      <td>0.181641</td>\n      <td>0.335938</td>\n      <td>-0.024048</td>\n      <td>-0.069824</td>\n      <td>0.075195</td>\n      <td>0.128906</td>\n      <td>-0.341797</td>\n      <td>-0.074707</td>\n      <td>...</td>\n      <td>0.000546</td>\n      <td>-0.017822</td>\n      <td>-0.060059</td>\n      <td>0.343750</td>\n      <td>-0.184570</td>\n      <td>0.112305</td>\n      <td>0.148438</td>\n      <td>0.116699</td>\n      <td>0.056885</td>\n      <td>0.105469</td>\n    </tr>\n    <tr>\n      <th>1</th>\n      <td>et</td>\n      <td>1.476465</td>\n      <td>0.650921</td>\n      <td>1.125034</td>\n      <td>-0.641027</td>\n      <td>2.133230</td>\n      <td>1.009610</td>\n      <td>0.522009</td>\n      <td>0.281066</td>\n      <td>-1.012411</td>\n      <td>...</td>\n      <td>0.992428</td>\n      <td>0.372222</td>\n      <td>1.381234</td>\n      <td>-0.745683</td>\n      <td>0.519218</td>\n      <td>0.505964</td>\n      <td>-0.132756</td>\n      <td>0.549315</td>\n      <td>1.261921</td>\n      <td>0.157704</td>\n    </tr>\n    <tr>\n      <th>2</th>\n      <td>des</td>\n      <td>0.074707</td>\n      <td>0.112793</td>\n      <td>0.251953</td>\n      <td>-0.172852</td>\n      <td>-0.011658</td>\n      <td>0.233398</td>\n      <td>0.349609</td>\n      <td>-0.219727</td>\n      <td>-0.060059</td>\n      <td>...</td>\n      <td>-0.023071</td>\n      <td>0.152344</td>\n      <td>0.111816</td>\n      <td>0.064453</td>\n      <td>-0.237305</td>\n      <td>0.000614</td>\n      <td>0.107422</td>\n      <td>0.141602</td>\n      <td>-0.036377</td>\n      <td>0.337891</td>\n    </tr>\n    <tr>\n      <th>3</th>\n      <td>la</td>\n      <td>2.521357</td>\n      <td>0.398546</td>\n      <td>0.327319</td>\n      <td>-0.384584</td>\n      <td>0.468277</td>\n      <td>0.268836</td>\n      <td>0.918718</td>\n      <td>1.271349</td>\n      <td>-2.448235</td>\n      <td>...</td>\n      <td>1.211048</td>\n      <td>-0.172852</td>\n      <td>1.216892</td>\n      <td>1.828425</td>\n      <td>0.227053</td>\n      <td>0.490466</td>\n      <td>0.163657</td>\n      <td>0.464512</td>\n      <td>0.553507</td>\n      <td>1.263063</td>\n    </tr>\n    <tr>\n      <th>4</th>\n      <td>les</td>\n      <td>-0.120117</td>\n      <td>0.095703</td>\n      <td>0.168945</td>\n      <td>-0.030273</td>\n      <td>0.119141</td>\n      <td>0.147461</td>\n      <td>0.086426</td>\n      <td>-0.168945</td>\n      <td>0.051758</td>\n      <td>...</td>\n      <td>0.182617</td>\n      <td>0.168945</td>\n      <td>-0.104492</td>\n      <td>0.033203</td>\n      <td>-0.488281</td>\n      <td>-0.053223</td>\n      <td>0.134766</td>\n      <td>-0.027832</td>\n      <td>0.087891</td>\n      <td>0.289062</td>\n    </tr>\n  </tbody>\n</table>\n<p>5 rows × 301 columns</p>\n</div>"
     },
     "execution_count": 38,
     "metadata": {},
     "output_type": "execute_result"
    }
   ],
   "source": [
    "vectors.head()"
   ],
   "metadata": {
    "collapsed": false,
    "pycharm": {
     "name": "#%%\n"
    }
   }
  },
  {
   "cell_type": "code",
   "execution_count": 46,
   "outputs": [],
   "source": [
    "def vectors_from_job(job):\n",
    "        all_words = []\n",
    "        for words in job:\n",
    "                all_words.append(words)\n",
    "        return vectors[vectors.index.isin(all_words)]"
   ],
   "metadata": {
    "collapsed": false,
    "pycharm": {
     "name": "#%%\n"
    }
   }
  },
  {
   "cell_type": "code",
   "execution_count": 47,
   "outputs": [
    {
     "data": {
      "text/plain": "                    1         2         3         4         5         6    \\\n0                                                                           \net             1.476465  0.650921  1.125034 -0.641027  2.133230  1.009610   \ndes            0.074707  0.112793  0.251953 -0.172852 -0.011658  0.233398   \nles           -0.120117  0.095703  0.168945 -0.030273  0.119141  0.147461   \nd             -0.032683  1.842234  0.497303 -0.645244 -0.114350  0.432769   \nl              1.583955  1.619117 -0.622385 -2.363761 -0.403488  1.468630   \ndans           2.504843 -1.802795 -0.160548 -0.577735  1.292311  2.761038   \nau            -0.302734  0.114258  0.017700  0.020996  0.047363  0.048340   \nest           -2.431960  1.350940  0.225080  0.611520  0.783469  1.686311   \nprojet        -0.168945 -0.071777  0.131836 -0.071289 -0.118652  0.094727   \ncommunication  0.309574 -3.883013 -0.522462 -0.470160  1.651134  0.255455   \nmarketing      0.182617 -0.140625 -0.204102 -0.136719  0.079590  0.160156   \nvotre         -0.012634 -0.064941  0.232422  0.167969 -0.153320  0.275391   \nemploi        -2.332745 -0.198590  1.583412 -1.726569  0.655627 -0.889119   \nmission        0.832907  0.701464  0.081308 -2.361651  1.768319  1.402709   \nplace         -1.919168  2.659866 -1.208030 -0.380738 -0.144430 -2.767000   \nrespect       -0.009460  0.072266  0.330078  0.166016 -0.126953  0.106445   \ndirection      0.037842 -0.158203 -0.017822 -0.155273 -0.226562 -0.206055   \ndévelopper     1.574515 -1.103102 -1.013052  0.087731  0.681796 -0.042499   \nréseaux       -0.039062 -0.113770  0.131836  0.113770 -0.091309  0.020142   \nsein          -0.096087 -0.271670 -0.364219 -1.512771  1.575996  1.560785   \noffres        -0.003277 -0.003252 -0.000213  0.001681 -0.000238  0.000546   \nnormes        -0.626250  0.760401  1.759635  0.983130  1.150623  1.229974   \nconduire      -0.686048  0.145055  0.736908  1.406211  0.818061 -0.910337   \nexpertise      0.755748 -1.046073 -0.779955  0.959751  0.258609  1.246979   \nprestations    0.849203  0.554643 -0.666361  0.431146  1.070780  1.903097   \npromouvoir     0.511855 -0.017418  0.034045  0.190988  0.286825  0.815927   \nprincipale     1.579907 -0.272332  0.003232 -1.135828 -1.100536  0.980907   \nstockage       0.027710  0.142578  0.227539  0.134766 -0.017334 -0.008789   \ngarant         1.916534  0.778318  0.948653 -1.132018 -1.246317  1.008668   \nmode           0.855825  1.093288 -0.385461 -0.049588 -0.002405  0.997198   \nwise           0.241211  0.166016  0.006531  0.316406 -0.003311  0.177734   \ndélivrées     -0.084951 -0.160507  0.204117  0.228402  0.272741  0.060117   \n\n                    7         8         9         10   ...       291  \\\n0                                                      ...             \net             0.522009  0.281066 -1.012411  1.352205  ...  0.992428   \ndes            0.349609 -0.219727 -0.060059  0.287109  ... -0.023071   \nles            0.086426 -0.168945  0.051758  0.308594  ...  0.182617   \nd             -0.246033 -0.535007 -0.332057  0.421660  ... -0.023890   \nl              0.487609  1.396602 -2.901223  0.504888  ...  1.869529   \ndans          -0.422537 -0.827355 -3.269811  1.940815  ...  1.006649   \nau             0.265625 -0.486328  0.051025  0.253906  ... -0.090820   \nest           -2.899148 -0.832241 -2.283552 -3.435134  ...  1.160608   \nprojet         0.152344 -0.164062 -0.055176  0.142578  ... -0.040039   \ncommunication -0.431487 -0.362795 -0.288652  0.347117  ... -0.353488   \nmarketing      0.216797 -0.204102 -0.049316 -0.119629  ...  0.052979   \nvotre          0.192383  0.001717  0.076172  0.149414  ...  0.045654   \nemploi         0.559797  3.075934 -4.754421 -1.070618  ...  2.600882   \nmission        1.417594 -2.340634  2.142098 -0.712225  ... -0.347270   \nplace          1.736236 -1.282320  2.506653 -0.014774  ... -1.040958   \nrespect        0.184570 -0.316406  0.030762 -0.039551  ...  0.011230   \ndirection     -0.005402 -0.408203 -0.030029  0.155273  ... -0.202148   \ndévelopper    -0.002079  0.686116  0.016523 -0.682147  ...  1.730747   \nréseaux        0.081543 -0.134766  0.124512  0.179688  ...  0.072266   \nsein           0.716724 -2.542609  0.648451  1.665869  ...  3.158961   \noffres        -0.001132  0.002257 -0.002248 -0.002193  ... -0.002268   \nnormes         1.839084  1.579584 -2.131606 -1.398052  ...  1.108666   \nconduire      -0.883833 -0.131526 -0.263366  0.056722  ...  1.744833   \nexpertise      0.360134 -0.917407 -0.827500 -0.808339  ... -1.133478   \nprestations    0.551092 -0.152660 -0.994860 -0.329363  ...  0.280870   \npromouvoir    -0.395196  0.362969 -0.824121  0.468426  ...  2.037304   \nprincipale     0.905419 -0.012305 -0.574864 -0.435369  ...  0.919435   \nstockage      -0.019653 -0.106934 -0.049072  0.066406  ... -0.100586   \ngarant         0.851500  0.266425  0.310506  1.405929  ...  0.368871   \nmode          -0.248068  0.314806  1.119762 -0.372362  ...  0.452847   \nwise           0.151367  0.040771 -0.088867  0.084961  ...  0.046875   \ndélivrées     -0.234672 -0.033512  0.037865 -0.161695  ...  0.144638   \n\n                    292       293       294       295       296       297  \\\n0                                                                           \net             0.372222  1.381234 -0.745683  0.519218  0.505964 -0.132756   \ndes            0.152344  0.111816  0.064453 -0.237305  0.000614  0.107422   \nles            0.168945 -0.104492  0.033203 -0.488281 -0.053223  0.134766   \nd             -1.042520  1.771648  1.573965  0.311247  0.266134  0.238941   \nl             -0.729517  0.116362  0.618401  0.237397  0.493041  0.798146   \ndans          -4.029388  0.410320  0.952804 -1.283937 -0.139559 -0.418922   \nau            -0.050537 -0.285156  0.200195 -0.103027 -0.015137 -0.065430   \nest            4.151691 -0.075979  1.172278  1.406431 -3.854072 -1.665711   \nprojet         0.023804 -0.088867  0.082520  0.009277 -0.048096 -0.110840   \ncommunication -0.001549  0.208867 -0.344428 -0.112891  0.093045  3.840238   \nmarketing      0.047852 -0.216797  0.142578  0.125977 -0.106445  0.423828   \nvotre          0.030762  0.166016  0.137695 -0.053711 -0.108887 -0.023315   \nemploi         1.401798 -1.242745  1.308348 -0.637515 -1.190272  0.708966   \nmission        0.801876 -0.852586  0.025525 -2.050117  1.222663  0.448426   \nplace         -0.275519  0.392732  0.556461 -2.078389 -1.930193  3.368418   \nrespect        0.093750 -0.087402 -0.229492  0.006714  0.036377 -0.109375   \ndirection      0.161133  0.091797 -0.138672  0.034424  0.107910  0.246094   \ndévelopper     0.739840  0.138105  0.851952 -1.034823  0.694831  1.547395   \nréseaux        0.009766 -0.029785  0.059570 -0.043457 -0.016846 -0.017456   \nsein           0.142991  0.041828  0.546060 -2.012710  0.767049 -0.908520   \noffres         0.000045  0.000990  0.000105  0.002956  0.000512 -0.001492   \nnormes         0.222519  0.104576  0.865239 -0.062477  0.655011 -0.261221   \nconduire       1.918806  2.864078  0.066979 -1.586827  0.924999  0.294603   \nexpertise      0.425688  0.173646 -0.258342 -2.070443  0.194250  0.615825   \nprestations    0.238107  0.436937  0.520528  0.638278  0.933423 -0.113772   \npromouvoir     0.374679 -0.702345  0.620214 -1.025974  1.882423  1.249990   \nprincipale     0.446599 -0.379666  0.538400  0.014158 -0.313538 -0.165019   \nstockage       0.027344 -0.065430  0.123047 -0.082031 -0.042969 -0.045410   \ngarant         0.525735  1.925349 -0.751248 -0.885752  1.791174  0.078039   \nmode          -0.434247 -0.504954 -0.350020 -0.199544 -1.404469 -0.109081   \nwise           0.343750  0.049805 -0.044922 -0.182617  0.039307  0.089355   \ndélivrées      0.058583 -0.053269  0.095701  0.049919  0.271172 -0.262789   \n\n                    298       299       300  \n0                                            \net             0.549315  1.261921  0.157704  \ndes            0.141602 -0.036377  0.337891  \nles           -0.027832  0.087891  0.289062  \nd              0.471029 -0.073571  0.472527  \nl              2.727479 -0.904677  0.298634  \ndans           1.380666 -1.645334  1.309486  \nau            -0.094727 -0.039795  0.269531  \nest            3.895567  1.416407  2.547353  \nprojet        -0.018433 -0.079102  0.072754  \ncommunication  0.472278 -0.051277  0.552335  \nmarketing     -0.072266  0.108887  0.222656  \nvotre         -0.326172 -0.221680  0.373047  \nemploi         2.049584 -1.436415 -1.214653  \nmission        2.493764  0.079361 -0.617193  \nplace          1.499267  0.823881 -1.242186  \nrespect        0.122559 -0.225586  0.073242  \ndirection      0.279297  0.031494  0.080078  \ndévelopper     0.949594  0.098577  0.245148  \nréseaux       -0.009705  0.047363  0.074707  \nsein          -0.814029  1.196304  0.136109  \noffres        -0.001024  0.002058 -0.001270  \nnormes         0.090961  1.566654  0.514295  \nconduire      -0.893141  0.619837  0.715337  \nexpertise     -0.911458 -0.776245  1.291964  \nprestations    0.640977 -0.339731 -1.014964  \npromouvoir     1.886459  0.221193 -0.629400  \nprincipale    -0.208563  0.114989  0.446721  \nstockage       0.040527 -0.074707  0.116699  \ngarant         0.303151 -1.369917 -0.452385  \nmode           0.418320  0.688337  0.389147  \nwise          -0.104980 -0.222656  0.168945  \ndélivrées      0.007541  0.098476  0.234908  \n\n[32 rows x 300 columns]",
      "text/html": "<div>\n<style scoped>\n    .dataframe tbody tr th:only-of-type {\n        vertical-align: middle;\n    }\n\n    .dataframe tbody tr th {\n        vertical-align: top;\n    }\n\n    .dataframe thead th {\n        text-align: right;\n    }\n</style>\n<table border=\"1\" class=\"dataframe\">\n  <thead>\n    <tr style=\"text-align: right;\">\n      <th></th>\n      <th>1</th>\n      <th>2</th>\n      <th>3</th>\n      <th>4</th>\n      <th>5</th>\n      <th>6</th>\n      <th>7</th>\n      <th>8</th>\n      <th>9</th>\n      <th>10</th>\n      <th>...</th>\n      <th>291</th>\n      <th>292</th>\n      <th>293</th>\n      <th>294</th>\n      <th>295</th>\n      <th>296</th>\n      <th>297</th>\n      <th>298</th>\n      <th>299</th>\n      <th>300</th>\n    </tr>\n    <tr>\n      <th>0</th>\n      <th></th>\n      <th></th>\n      <th></th>\n      <th></th>\n      <th></th>\n      <th></th>\n      <th></th>\n      <th></th>\n      <th></th>\n      <th></th>\n      <th></th>\n      <th></th>\n      <th></th>\n      <th></th>\n      <th></th>\n      <th></th>\n      <th></th>\n      <th></th>\n      <th></th>\n      <th></th>\n      <th></th>\n    </tr>\n  </thead>\n  <tbody>\n    <tr>\n      <th>et</th>\n      <td>1.476465</td>\n      <td>0.650921</td>\n      <td>1.125034</td>\n      <td>-0.641027</td>\n      <td>2.133230</td>\n      <td>1.009610</td>\n      <td>0.522009</td>\n      <td>0.281066</td>\n      <td>-1.012411</td>\n      <td>1.352205</td>\n      <td>...</td>\n      <td>0.992428</td>\n      <td>0.372222</td>\n      <td>1.381234</td>\n      <td>-0.745683</td>\n      <td>0.519218</td>\n      <td>0.505964</td>\n      <td>-0.132756</td>\n      <td>0.549315</td>\n      <td>1.261921</td>\n      <td>0.157704</td>\n    </tr>\n    <tr>\n      <th>des</th>\n      <td>0.074707</td>\n      <td>0.112793</td>\n      <td>0.251953</td>\n      <td>-0.172852</td>\n      <td>-0.011658</td>\n      <td>0.233398</td>\n      <td>0.349609</td>\n      <td>-0.219727</td>\n      <td>-0.060059</td>\n      <td>0.287109</td>\n      <td>...</td>\n      <td>-0.023071</td>\n      <td>0.152344</td>\n      <td>0.111816</td>\n      <td>0.064453</td>\n      <td>-0.237305</td>\n      <td>0.000614</td>\n      <td>0.107422</td>\n      <td>0.141602</td>\n      <td>-0.036377</td>\n      <td>0.337891</td>\n    </tr>\n    <tr>\n      <th>les</th>\n      <td>-0.120117</td>\n      <td>0.095703</td>\n      <td>0.168945</td>\n      <td>-0.030273</td>\n      <td>0.119141</td>\n      <td>0.147461</td>\n      <td>0.086426</td>\n      <td>-0.168945</td>\n      <td>0.051758</td>\n      <td>0.308594</td>\n      <td>...</td>\n      <td>0.182617</td>\n      <td>0.168945</td>\n      <td>-0.104492</td>\n      <td>0.033203</td>\n      <td>-0.488281</td>\n      <td>-0.053223</td>\n      <td>0.134766</td>\n      <td>-0.027832</td>\n      <td>0.087891</td>\n      <td>0.289062</td>\n    </tr>\n    <tr>\n      <th>d</th>\n      <td>-0.032683</td>\n      <td>1.842234</td>\n      <td>0.497303</td>\n      <td>-0.645244</td>\n      <td>-0.114350</td>\n      <td>0.432769</td>\n      <td>-0.246033</td>\n      <td>-0.535007</td>\n      <td>-0.332057</td>\n      <td>0.421660</td>\n      <td>...</td>\n      <td>-0.023890</td>\n      <td>-1.042520</td>\n      <td>1.771648</td>\n      <td>1.573965</td>\n      <td>0.311247</td>\n      <td>0.266134</td>\n      <td>0.238941</td>\n      <td>0.471029</td>\n      <td>-0.073571</td>\n      <td>0.472527</td>\n    </tr>\n    <tr>\n      <th>l</th>\n      <td>1.583955</td>\n      <td>1.619117</td>\n      <td>-0.622385</td>\n      <td>-2.363761</td>\n      <td>-0.403488</td>\n      <td>1.468630</td>\n      <td>0.487609</td>\n      <td>1.396602</td>\n      <td>-2.901223</td>\n      <td>0.504888</td>\n      <td>...</td>\n      <td>1.869529</td>\n      <td>-0.729517</td>\n      <td>0.116362</td>\n      <td>0.618401</td>\n      <td>0.237397</td>\n      <td>0.493041</td>\n      <td>0.798146</td>\n      <td>2.727479</td>\n      <td>-0.904677</td>\n      <td>0.298634</td>\n    </tr>\n    <tr>\n      <th>dans</th>\n      <td>2.504843</td>\n      <td>-1.802795</td>\n      <td>-0.160548</td>\n      <td>-0.577735</td>\n      <td>1.292311</td>\n      <td>2.761038</td>\n      <td>-0.422537</td>\n      <td>-0.827355</td>\n      <td>-3.269811</td>\n      <td>1.940815</td>\n      <td>...</td>\n      <td>1.006649</td>\n      <td>-4.029388</td>\n      <td>0.410320</td>\n      <td>0.952804</td>\n      <td>-1.283937</td>\n      <td>-0.139559</td>\n      <td>-0.418922</td>\n      <td>1.380666</td>\n      <td>-1.645334</td>\n      <td>1.309486</td>\n    </tr>\n    <tr>\n      <th>au</th>\n      <td>-0.302734</td>\n      <td>0.114258</td>\n      <td>0.017700</td>\n      <td>0.020996</td>\n      <td>0.047363</td>\n      <td>0.048340</td>\n      <td>0.265625</td>\n      <td>-0.486328</td>\n      <td>0.051025</td>\n      <td>0.253906</td>\n      <td>...</td>\n      <td>-0.090820</td>\n      <td>-0.050537</td>\n      <td>-0.285156</td>\n      <td>0.200195</td>\n      <td>-0.103027</td>\n      <td>-0.015137</td>\n      <td>-0.065430</td>\n      <td>-0.094727</td>\n      <td>-0.039795</td>\n      <td>0.269531</td>\n    </tr>\n    <tr>\n      <th>est</th>\n      <td>-2.431960</td>\n      <td>1.350940</td>\n      <td>0.225080</td>\n      <td>0.611520</td>\n      <td>0.783469</td>\n      <td>1.686311</td>\n      <td>-2.899148</td>\n      <td>-0.832241</td>\n      <td>-2.283552</td>\n      <td>-3.435134</td>\n      <td>...</td>\n      <td>1.160608</td>\n      <td>4.151691</td>\n      <td>-0.075979</td>\n      <td>1.172278</td>\n      <td>1.406431</td>\n      <td>-3.854072</td>\n      <td>-1.665711</td>\n      <td>3.895567</td>\n      <td>1.416407</td>\n      <td>2.547353</td>\n    </tr>\n    <tr>\n      <th>projet</th>\n      <td>-0.168945</td>\n      <td>-0.071777</td>\n      <td>0.131836</td>\n      <td>-0.071289</td>\n      <td>-0.118652</td>\n      <td>0.094727</td>\n      <td>0.152344</td>\n      <td>-0.164062</td>\n      <td>-0.055176</td>\n      <td>0.142578</td>\n      <td>...</td>\n      <td>-0.040039</td>\n      <td>0.023804</td>\n      <td>-0.088867</td>\n      <td>0.082520</td>\n      <td>0.009277</td>\n      <td>-0.048096</td>\n      <td>-0.110840</td>\n      <td>-0.018433</td>\n      <td>-0.079102</td>\n      <td>0.072754</td>\n    </tr>\n    <tr>\n      <th>communication</th>\n      <td>0.309574</td>\n      <td>-3.883013</td>\n      <td>-0.522462</td>\n      <td>-0.470160</td>\n      <td>1.651134</td>\n      <td>0.255455</td>\n      <td>-0.431487</td>\n      <td>-0.362795</td>\n      <td>-0.288652</td>\n      <td>0.347117</td>\n      <td>...</td>\n      <td>-0.353488</td>\n      <td>-0.001549</td>\n      <td>0.208867</td>\n      <td>-0.344428</td>\n      <td>-0.112891</td>\n      <td>0.093045</td>\n      <td>3.840238</td>\n      <td>0.472278</td>\n      <td>-0.051277</td>\n      <td>0.552335</td>\n    </tr>\n    <tr>\n      <th>marketing</th>\n      <td>0.182617</td>\n      <td>-0.140625</td>\n      <td>-0.204102</td>\n      <td>-0.136719</td>\n      <td>0.079590</td>\n      <td>0.160156</td>\n      <td>0.216797</td>\n      <td>-0.204102</td>\n      <td>-0.049316</td>\n      <td>-0.119629</td>\n      <td>...</td>\n      <td>0.052979</td>\n      <td>0.047852</td>\n      <td>-0.216797</td>\n      <td>0.142578</td>\n      <td>0.125977</td>\n      <td>-0.106445</td>\n      <td>0.423828</td>\n      <td>-0.072266</td>\n      <td>0.108887</td>\n      <td>0.222656</td>\n    </tr>\n    <tr>\n      <th>votre</th>\n      <td>-0.012634</td>\n      <td>-0.064941</td>\n      <td>0.232422</td>\n      <td>0.167969</td>\n      <td>-0.153320</td>\n      <td>0.275391</td>\n      <td>0.192383</td>\n      <td>0.001717</td>\n      <td>0.076172</td>\n      <td>0.149414</td>\n      <td>...</td>\n      <td>0.045654</td>\n      <td>0.030762</td>\n      <td>0.166016</td>\n      <td>0.137695</td>\n      <td>-0.053711</td>\n      <td>-0.108887</td>\n      <td>-0.023315</td>\n      <td>-0.326172</td>\n      <td>-0.221680</td>\n      <td>0.373047</td>\n    </tr>\n    <tr>\n      <th>emploi</th>\n      <td>-2.332745</td>\n      <td>-0.198590</td>\n      <td>1.583412</td>\n      <td>-1.726569</td>\n      <td>0.655627</td>\n      <td>-0.889119</td>\n      <td>0.559797</td>\n      <td>3.075934</td>\n      <td>-4.754421</td>\n      <td>-1.070618</td>\n      <td>...</td>\n      <td>2.600882</td>\n      <td>1.401798</td>\n      <td>-1.242745</td>\n      <td>1.308348</td>\n      <td>-0.637515</td>\n      <td>-1.190272</td>\n      <td>0.708966</td>\n      <td>2.049584</td>\n      <td>-1.436415</td>\n      <td>-1.214653</td>\n    </tr>\n    <tr>\n      <th>mission</th>\n      <td>0.832907</td>\n      <td>0.701464</td>\n      <td>0.081308</td>\n      <td>-2.361651</td>\n      <td>1.768319</td>\n      <td>1.402709</td>\n      <td>1.417594</td>\n      <td>-2.340634</td>\n      <td>2.142098</td>\n      <td>-0.712225</td>\n      <td>...</td>\n      <td>-0.347270</td>\n      <td>0.801876</td>\n      <td>-0.852586</td>\n      <td>0.025525</td>\n      <td>-2.050117</td>\n      <td>1.222663</td>\n      <td>0.448426</td>\n      <td>2.493764</td>\n      <td>0.079361</td>\n      <td>-0.617193</td>\n    </tr>\n    <tr>\n      <th>place</th>\n      <td>-1.919168</td>\n      <td>2.659866</td>\n      <td>-1.208030</td>\n      <td>-0.380738</td>\n      <td>-0.144430</td>\n      <td>-2.767000</td>\n      <td>1.736236</td>\n      <td>-1.282320</td>\n      <td>2.506653</td>\n      <td>-0.014774</td>\n      <td>...</td>\n      <td>-1.040958</td>\n      <td>-0.275519</td>\n      <td>0.392732</td>\n      <td>0.556461</td>\n      <td>-2.078389</td>\n      <td>-1.930193</td>\n      <td>3.368418</td>\n      <td>1.499267</td>\n      <td>0.823881</td>\n      <td>-1.242186</td>\n    </tr>\n    <tr>\n      <th>respect</th>\n      <td>-0.009460</td>\n      <td>0.072266</td>\n      <td>0.330078</td>\n      <td>0.166016</td>\n      <td>-0.126953</td>\n      <td>0.106445</td>\n      <td>0.184570</td>\n      <td>-0.316406</td>\n      <td>0.030762</td>\n      <td>-0.039551</td>\n      <td>...</td>\n      <td>0.011230</td>\n      <td>0.093750</td>\n      <td>-0.087402</td>\n      <td>-0.229492</td>\n      <td>0.006714</td>\n      <td>0.036377</td>\n      <td>-0.109375</td>\n      <td>0.122559</td>\n      <td>-0.225586</td>\n      <td>0.073242</td>\n    </tr>\n    <tr>\n      <th>direction</th>\n      <td>0.037842</td>\n      <td>-0.158203</td>\n      <td>-0.017822</td>\n      <td>-0.155273</td>\n      <td>-0.226562</td>\n      <td>-0.206055</td>\n      <td>-0.005402</td>\n      <td>-0.408203</td>\n      <td>-0.030029</td>\n      <td>0.155273</td>\n      <td>...</td>\n      <td>-0.202148</td>\n      <td>0.161133</td>\n      <td>0.091797</td>\n      <td>-0.138672</td>\n      <td>0.034424</td>\n      <td>0.107910</td>\n      <td>0.246094</td>\n      <td>0.279297</td>\n      <td>0.031494</td>\n      <td>0.080078</td>\n    </tr>\n    <tr>\n      <th>développer</th>\n      <td>1.574515</td>\n      <td>-1.103102</td>\n      <td>-1.013052</td>\n      <td>0.087731</td>\n      <td>0.681796</td>\n      <td>-0.042499</td>\n      <td>-0.002079</td>\n      <td>0.686116</td>\n      <td>0.016523</td>\n      <td>-0.682147</td>\n      <td>...</td>\n      <td>1.730747</td>\n      <td>0.739840</td>\n      <td>0.138105</td>\n      <td>0.851952</td>\n      <td>-1.034823</td>\n      <td>0.694831</td>\n      <td>1.547395</td>\n      <td>0.949594</td>\n      <td>0.098577</td>\n      <td>0.245148</td>\n    </tr>\n    <tr>\n      <th>réseaux</th>\n      <td>-0.039062</td>\n      <td>-0.113770</td>\n      <td>0.131836</td>\n      <td>0.113770</td>\n      <td>-0.091309</td>\n      <td>0.020142</td>\n      <td>0.081543</td>\n      <td>-0.134766</td>\n      <td>0.124512</td>\n      <td>0.179688</td>\n      <td>...</td>\n      <td>0.072266</td>\n      <td>0.009766</td>\n      <td>-0.029785</td>\n      <td>0.059570</td>\n      <td>-0.043457</td>\n      <td>-0.016846</td>\n      <td>-0.017456</td>\n      <td>-0.009705</td>\n      <td>0.047363</td>\n      <td>0.074707</td>\n    </tr>\n    <tr>\n      <th>sein</th>\n      <td>-0.096087</td>\n      <td>-0.271670</td>\n      <td>-0.364219</td>\n      <td>-1.512771</td>\n      <td>1.575996</td>\n      <td>1.560785</td>\n      <td>0.716724</td>\n      <td>-2.542609</td>\n      <td>0.648451</td>\n      <td>1.665869</td>\n      <td>...</td>\n      <td>3.158961</td>\n      <td>0.142991</td>\n      <td>0.041828</td>\n      <td>0.546060</td>\n      <td>-2.012710</td>\n      <td>0.767049</td>\n      <td>-0.908520</td>\n      <td>-0.814029</td>\n      <td>1.196304</td>\n      <td>0.136109</td>\n    </tr>\n    <tr>\n      <th>offres</th>\n      <td>-0.003277</td>\n      <td>-0.003252</td>\n      <td>-0.000213</td>\n      <td>0.001681</td>\n      <td>-0.000238</td>\n      <td>0.000546</td>\n      <td>-0.001132</td>\n      <td>0.002257</td>\n      <td>-0.002248</td>\n      <td>-0.002193</td>\n      <td>...</td>\n      <td>-0.002268</td>\n      <td>0.000045</td>\n      <td>0.000990</td>\n      <td>0.000105</td>\n      <td>0.002956</td>\n      <td>0.000512</td>\n      <td>-0.001492</td>\n      <td>-0.001024</td>\n      <td>0.002058</td>\n      <td>-0.001270</td>\n    </tr>\n    <tr>\n      <th>normes</th>\n      <td>-0.626250</td>\n      <td>0.760401</td>\n      <td>1.759635</td>\n      <td>0.983130</td>\n      <td>1.150623</td>\n      <td>1.229974</td>\n      <td>1.839084</td>\n      <td>1.579584</td>\n      <td>-2.131606</td>\n      <td>-1.398052</td>\n      <td>...</td>\n      <td>1.108666</td>\n      <td>0.222519</td>\n      <td>0.104576</td>\n      <td>0.865239</td>\n      <td>-0.062477</td>\n      <td>0.655011</td>\n      <td>-0.261221</td>\n      <td>0.090961</td>\n      <td>1.566654</td>\n      <td>0.514295</td>\n    </tr>\n    <tr>\n      <th>conduire</th>\n      <td>-0.686048</td>\n      <td>0.145055</td>\n      <td>0.736908</td>\n      <td>1.406211</td>\n      <td>0.818061</td>\n      <td>-0.910337</td>\n      <td>-0.883833</td>\n      <td>-0.131526</td>\n      <td>-0.263366</td>\n      <td>0.056722</td>\n      <td>...</td>\n      <td>1.744833</td>\n      <td>1.918806</td>\n      <td>2.864078</td>\n      <td>0.066979</td>\n      <td>-1.586827</td>\n      <td>0.924999</td>\n      <td>0.294603</td>\n      <td>-0.893141</td>\n      <td>0.619837</td>\n      <td>0.715337</td>\n    </tr>\n    <tr>\n      <th>expertise</th>\n      <td>0.755748</td>\n      <td>-1.046073</td>\n      <td>-0.779955</td>\n      <td>0.959751</td>\n      <td>0.258609</td>\n      <td>1.246979</td>\n      <td>0.360134</td>\n      <td>-0.917407</td>\n      <td>-0.827500</td>\n      <td>-0.808339</td>\n      <td>...</td>\n      <td>-1.133478</td>\n      <td>0.425688</td>\n      <td>0.173646</td>\n      <td>-0.258342</td>\n      <td>-2.070443</td>\n      <td>0.194250</td>\n      <td>0.615825</td>\n      <td>-0.911458</td>\n      <td>-0.776245</td>\n      <td>1.291964</td>\n    </tr>\n    <tr>\n      <th>prestations</th>\n      <td>0.849203</td>\n      <td>0.554643</td>\n      <td>-0.666361</td>\n      <td>0.431146</td>\n      <td>1.070780</td>\n      <td>1.903097</td>\n      <td>0.551092</td>\n      <td>-0.152660</td>\n      <td>-0.994860</td>\n      <td>-0.329363</td>\n      <td>...</td>\n      <td>0.280870</td>\n      <td>0.238107</td>\n      <td>0.436937</td>\n      <td>0.520528</td>\n      <td>0.638278</td>\n      <td>0.933423</td>\n      <td>-0.113772</td>\n      <td>0.640977</td>\n      <td>-0.339731</td>\n      <td>-1.014964</td>\n    </tr>\n    <tr>\n      <th>promouvoir</th>\n      <td>0.511855</td>\n      <td>-0.017418</td>\n      <td>0.034045</td>\n      <td>0.190988</td>\n      <td>0.286825</td>\n      <td>0.815927</td>\n      <td>-0.395196</td>\n      <td>0.362969</td>\n      <td>-0.824121</td>\n      <td>0.468426</td>\n      <td>...</td>\n      <td>2.037304</td>\n      <td>0.374679</td>\n      <td>-0.702345</td>\n      <td>0.620214</td>\n      <td>-1.025974</td>\n      <td>1.882423</td>\n      <td>1.249990</td>\n      <td>1.886459</td>\n      <td>0.221193</td>\n      <td>-0.629400</td>\n    </tr>\n    <tr>\n      <th>principale</th>\n      <td>1.579907</td>\n      <td>-0.272332</td>\n      <td>0.003232</td>\n      <td>-1.135828</td>\n      <td>-1.100536</td>\n      <td>0.980907</td>\n      <td>0.905419</td>\n      <td>-0.012305</td>\n      <td>-0.574864</td>\n      <td>-0.435369</td>\n      <td>...</td>\n      <td>0.919435</td>\n      <td>0.446599</td>\n      <td>-0.379666</td>\n      <td>0.538400</td>\n      <td>0.014158</td>\n      <td>-0.313538</td>\n      <td>-0.165019</td>\n      <td>-0.208563</td>\n      <td>0.114989</td>\n      <td>0.446721</td>\n    </tr>\n    <tr>\n      <th>stockage</th>\n      <td>0.027710</td>\n      <td>0.142578</td>\n      <td>0.227539</td>\n      <td>0.134766</td>\n      <td>-0.017334</td>\n      <td>-0.008789</td>\n      <td>-0.019653</td>\n      <td>-0.106934</td>\n      <td>-0.049072</td>\n      <td>0.066406</td>\n      <td>...</td>\n      <td>-0.100586</td>\n      <td>0.027344</td>\n      <td>-0.065430</td>\n      <td>0.123047</td>\n      <td>-0.082031</td>\n      <td>-0.042969</td>\n      <td>-0.045410</td>\n      <td>0.040527</td>\n      <td>-0.074707</td>\n      <td>0.116699</td>\n    </tr>\n    <tr>\n      <th>garant</th>\n      <td>1.916534</td>\n      <td>0.778318</td>\n      <td>0.948653</td>\n      <td>-1.132018</td>\n      <td>-1.246317</td>\n      <td>1.008668</td>\n      <td>0.851500</td>\n      <td>0.266425</td>\n      <td>0.310506</td>\n      <td>1.405929</td>\n      <td>...</td>\n      <td>0.368871</td>\n      <td>0.525735</td>\n      <td>1.925349</td>\n      <td>-0.751248</td>\n      <td>-0.885752</td>\n      <td>1.791174</td>\n      <td>0.078039</td>\n      <td>0.303151</td>\n      <td>-1.369917</td>\n      <td>-0.452385</td>\n    </tr>\n    <tr>\n      <th>mode</th>\n      <td>0.855825</td>\n      <td>1.093288</td>\n      <td>-0.385461</td>\n      <td>-0.049588</td>\n      <td>-0.002405</td>\n      <td>0.997198</td>\n      <td>-0.248068</td>\n      <td>0.314806</td>\n      <td>1.119762</td>\n      <td>-0.372362</td>\n      <td>...</td>\n      <td>0.452847</td>\n      <td>-0.434247</td>\n      <td>-0.504954</td>\n      <td>-0.350020</td>\n      <td>-0.199544</td>\n      <td>-1.404469</td>\n      <td>-0.109081</td>\n      <td>0.418320</td>\n      <td>0.688337</td>\n      <td>0.389147</td>\n    </tr>\n    <tr>\n      <th>wise</th>\n      <td>0.241211</td>\n      <td>0.166016</td>\n      <td>0.006531</td>\n      <td>0.316406</td>\n      <td>-0.003311</td>\n      <td>0.177734</td>\n      <td>0.151367</td>\n      <td>0.040771</td>\n      <td>-0.088867</td>\n      <td>0.084961</td>\n      <td>...</td>\n      <td>0.046875</td>\n      <td>0.343750</td>\n      <td>0.049805</td>\n      <td>-0.044922</td>\n      <td>-0.182617</td>\n      <td>0.039307</td>\n      <td>0.089355</td>\n      <td>-0.104980</td>\n      <td>-0.222656</td>\n      <td>0.168945</td>\n    </tr>\n    <tr>\n      <th>délivrées</th>\n      <td>-0.084951</td>\n      <td>-0.160507</td>\n      <td>0.204117</td>\n      <td>0.228402</td>\n      <td>0.272741</td>\n      <td>0.060117</td>\n      <td>-0.234672</td>\n      <td>-0.033512</td>\n      <td>0.037865</td>\n      <td>-0.161695</td>\n      <td>...</td>\n      <td>0.144638</td>\n      <td>0.058583</td>\n      <td>-0.053269</td>\n      <td>0.095701</td>\n      <td>0.049919</td>\n      <td>0.271172</td>\n      <td>-0.262789</td>\n      <td>0.007541</td>\n      <td>0.098476</td>\n      <td>0.234908</td>\n    </tr>\n  </tbody>\n</table>\n<p>32 rows × 300 columns</p>\n</div>"
     },
     "execution_count": 47,
     "metadata": {},
     "output_type": "execute_result"
    }
   ],
   "source": [
    "vectors_from_job(keywords_set[0])"
   ],
   "metadata": {
    "collapsed": false,
    "pycharm": {
     "name": "#%%\n"
    }
   }
  },
  {
   "cell_type": "code",
   "execution_count": 48,
   "outputs": [
    {
     "data": {
      "text/plain": "1      0.201541\n2      0.110994\n3      0.086030\n4     -0.241969\n5      0.340148\n         ...   \n296    0.051756\n297    0.305604\n298    0.529300\n299    0.030205\n300    0.194320\nLength: 300, dtype: float64"
     },
     "execution_count": 48,
     "metadata": {},
     "output_type": "execute_result"
    }
   ],
   "source": [
    "# test out getting job description embedding (in the dumbest way possible)\n",
    "\n",
    "test_vectors = vectors_from_job(keywords_set[0])\n",
    "test_vectors.mean()"
   ],
   "metadata": {
    "collapsed": false,
    "pycharm": {
     "name": "#%%\n"
    }
   }
  },
  {
   "cell_type": "code",
   "execution_count": null,
   "outputs": [],
   "source": [],
   "metadata": {
    "collapsed": false,
    "pycharm": {
     "name": "#%%\n"
    }
   }
  }
 ],
 "metadata": {
  "kernelspec": {
   "display_name": "Python 3",
   "language": "python",
   "name": "python3"
  },
  "language_info": {
   "codemirror_mode": {
    "name": "ipython",
    "version": 2
   },
   "file_extension": ".py",
   "mimetype": "text/x-python",
   "name": "python",
   "nbconvert_exporter": "python",
   "pygments_lexer": "ipython2",
   "version": "2.7.6"
  }
 },
 "nbformat": 4,
 "nbformat_minor": 0
}
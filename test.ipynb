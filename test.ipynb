{
 "cells": [
  {
   "cell_type": "markdown",
   "metadata": {
    "collapsed": true,
    "pycharm": {
     "name": "#%% md\n"
    },
    "id": "Nd7oenfs4T_U"
   },
   "source": [
    "rien de bon"
   ]
  },
  {
   "cell_type": "markdown",
   "source": [
    "modify by pams kfshjvbojdgfiudshlfjhkhbfihsgfbdsuykhgfsihkfdbsdhfsd dshkfgbsjkbhfkhfhbdsjhghsfbhgsrhgi\n",
    "jhguyfyuikfguyrtutfufgvujyfguytfguyfgyuyfguyuyfguy\n",
    "\n",
    "\n",
    "\n",
    "\n",
    "\n",
    "\n",
    "\n",
    "ytdfufgyfguyghgguyfuyrfgrtrttrdtyrsfrtesdrtfgdtd\n",
    "\n",
    "\n",
    "\n",
    "drdytfutyfuiyfgik\n",
    "\n",
    "\n",
    "ytrtfutyufuytfuyftufuyfuy\n",
    "\n"
   ],
   "metadata": {
    "id": "iQ6jH0mN4VOI"
   }
  },
  {
   "cell_type": "code",
   "source": [
    "text= \"hdhkbdkfbdjbfdhbfdhkvbfdhbf\"\n",
    "\n",
    "lc = languageCheck()\n",
    "dfqsfsfsffsfsfsfsff\n",
    "irzzrzrzrzrzrzr"
   ],
   "metadata": {
    "id": "aITkdIoN4eX4"
   },
   "execution_count": null,
   "outputs": []
  },
  {
   "cell_type": "code",
   "execution_count": 5,
   "outputs": [],
   "source": [
    "from core.KeywordExtract.Keyword import Keywords"
   ],
   "metadata": {
    "collapsed": false,
    "pycharm": {
     "name": "#%%\n"
    }
   }
  },
  {
   "cell_type": "code",
   "execution_count": 6,
   "outputs": [],
   "source": [
    "k = Keywords()"
   ],
   "metadata": {
    "collapsed": false,
    "pycharm": {
     "name": "#%%\n"
    }
   }
  },
  {
   "cell_type": "code",
   "execution_count": null,
   "outputs": [],
   "source": [],
   "metadata": {
    "collapsed": false,
    "pycharm": {
     "name": "#%%\n"
    }
   }
  },
  {
   "cell_type": "code",
   "execution_count": null,
   "outputs": [],
   "source": [],
   "metadata": {
    "collapsed": false,
    "pycharm": {
     "name": "#%%\n"
    }
   }
  },
  {
   "cell_type": "code",
   "execution_count": null,
   "outputs": [],
   "source": [],
   "metadata": {
    "collapsed": false,
    "pycharm": {
     "name": "#%%\n"
    }
   }
  },
  {
   "cell_type": "code",
   "execution_count": null,
   "outputs": [],
   "source": [],
   "metadata": {
    "collapsed": false,
    "pycharm": {
     "name": "#%%\n"
    }
   }
  }
 ],
 "metadata": {
  "kernelspec": {
   "display_name": "Python 3",
   "language": "python",
   "name": "python3"
  },
  "language_info": {
   "codemirror_mode": {
    "name": "ipython",
    "version": 2
   },
   "file_extension": ".py",
   "mimetype": "text/x-python",
   "name": "python",
   "nbconvert_exporter": "python",
   "pygments_lexer": "ipython2",
   "version": "2.7.6"
  },
  "colab": {
   "name": "test.ipynb",
   "provenance": [],
   "toc_visible": true
  }
 },
 "nbformat": 4,
 "nbformat_minor": 0
}
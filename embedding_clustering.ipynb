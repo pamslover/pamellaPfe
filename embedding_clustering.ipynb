{
 "cells": [
  {
   "cell_type": "code",
   "metadata": {
    "collapsed": true,
    "pycharm": {
     "name": "#%%\n"
    },
    "id": "Nd7oenfs4T_U"
   },
   "source": [
    "import pandas as pd\n",
    "from core.helpers import yakeHelperFunctions as yhf\n",
    "import glob\n",
    "from bs4 import BeautifulSoup as bs\n",
    "from tqdm import tqdm"
   ],
   "execution_count": 26,
   "outputs": []
  },
  {
   "cell_type": "code",
   "execution_count": 6,
   "outputs": [],
   "source": [
    "job_dir = \"/data/AllProjectIA/Scraping/projet/\""
   ],
   "metadata": {
    "collapsed": false,
    "pycharm": {
     "name": "#%%\n"
    }
   }
  },
  {
   "cell_type": "markdown",
   "source": [
    "# get all text of jobs"
   ],
   "metadata": {
    "collapsed": false,
    "pycharm": {
     "name": "#%% md\n"
    }
   }
  },
  {
   "cell_type": "code",
   "execution_count": 10,
   "outputs": [
    {
     "name": "stderr",
     "output_type": "stream",
     "text": [
      "100%|██████████| 185/185 [00:00<00:00, 6774.99it/s]\n",
      "100%|██████████| 7980/7980 [01:03<00:00, 126.62it/s]\n"
     ]
    }
   ],
   "source": [
    "html_contents_emploiscm = []\n",
    "html_contents_jobinfos = []\n",
    "for file_name in tqdm(sorted(glob.glob(f'{job_dir}emploi.cm/*.html'))):\n",
    "    with open(file_name, 'r') as f:\n",
    "        html_contents_emploiscm.append(f.read())\n",
    "for file_name in tqdm(sorted(glob.glob(f'{job_dir}jobinfocamer.com/*.html'))):\n",
    "    with open(file_name, 'r') as f:\n",
    "        html_contents_jobinfos.append(f.read())"
   ],
   "metadata": {
    "collapsed": false,
    "pycharm": {
     "name": "#%%\n"
    }
   }
  },
  {
   "cell_type": "code",
   "execution_count": 11,
   "outputs": [
    {
     "name": "stdout",
     "output_type": "stream",
     "text": [
      "nous avons charger 185 HTML files de emplois.cm\n",
      "nous avons charger 7980 HTML files de job info\n"
     ]
    }
   ],
   "source": [
    "print(f\"nous avons charger {len(html_contents_emploiscm)} HTML files de emplois.cm\")\n",
    "print(f\"nous avons charger {len(html_contents_jobinfos)} HTML files de job info\")"
   ],
   "metadata": {
    "collapsed": false,
    "pycharm": {
     "name": "#%%\n"
    }
   }
  },
  {
   "cell_type": "markdown",
   "source": [
    "# remove HTML Tags"
   ],
   "metadata": {
    "collapsed": false,
    "pycharm": {
     "name": "#%% md\n"
    }
   }
  },
  {
   "cell_type": "code",
   "execution_count": 18,
   "outputs": [],
   "source": [
    "def remove_html_tags(html):\n",
    "   soup = bs(html, \"html.parser\")\n",
    "   for data in soup(['style', 'script']):\n",
    "       data.decompose()\n",
    "   return ' '.join(soup.stripped_strings)\n",
    "\n"
   ],
   "metadata": {
    "collapsed": false,
    "pycharm": {
     "name": "#%%\n"
    }
   }
  },
  {
   "cell_type": "code",
   "execution_count": 21,
   "outputs": [
    {
     "name": "stderr",
     "output_type": "stream",
     "text": [
      "100%|██████████| 185/185 [00:05<00:00, 32.13it/s]\n",
      "100%|██████████| 7980/7980 [02:35<00:00, 51.39it/s]\n"
     ]
    }
   ],
   "source": [
    "contents = []\n",
    "for html in tqdm(html_contents_emploiscm):\n",
    "    text = remove_html_tags(html)\n",
    "    contents.append(text)\n",
    "for html in tqdm(html_contents_jobinfos):\n",
    "    text = remove_html_tags(html)\n",
    "    contents.append(text)\n"
   ],
   "metadata": {
    "collapsed": false,
    "pycharm": {
     "name": "#%%\n"
    }
   }
  },
  {
   "cell_type": "code",
   "execution_count": 22,
   "outputs": [],
   "source": [
    "job_data = pd.DataFrame(contents, columns=['job'])"
   ],
   "metadata": {
    "collapsed": false,
    "pycharm": {
     "name": "#%%\n"
    }
   }
  },
  {
   "cell_type": "code",
   "execution_count": 28,
   "outputs": [],
   "source": [
    "job_data.to_csv(\"dataset/job.csv\", index=False)"
   ],
   "metadata": {
    "collapsed": false,
    "pycharm": {
     "name": "#%%\n"
    }
   }
  },
  {
   "cell_type": "code",
   "source": [
    "texts = pd.read_csv(\"dataset/data.csv\")"
   ],
   "metadata": {
    "id": "iQ6jH0mN4VOI",
    "pycharm": {
     "name": "#%%\n"
    }
   },
   "execution_count": 3,
   "outputs": []
  },
  {
   "cell_type": "code",
   "source": [
    "texts.columns"
   ],
   "metadata": {
    "collapsed": false,
    "pycharm": {
     "name": "#%%\n"
    }
   },
   "execution_count": 4,
   "outputs": [
    {
     "data": {
      "text/plain": "Index(['Unnamed: 0', 'Candidates', 'Emails', 'Phone_number', 'Resumes'], dtype='object')"
     },
     "execution_count": 4,
     "metadata": {},
     "output_type": "execute_result"
    }
   ]
  },
  {
   "cell_type": "markdown",
   "source": [
    "# cut sample (1000 rows)"
   ],
   "metadata": {
    "collapsed": false,
    "pycharm": {
     "name": "#%% md\n"
    }
   }
  },
  {
   "cell_type": "code",
   "source": [
    "job_sample= job_data.job[-1000:].astype(str)\n",
    "\n"
   ],
   "metadata": {
    "collapsed": false,
    "pycharm": {
     "name": "#%%\n"
    }
   },
   "execution_count": 23,
   "outputs": []
  },
  {
   "cell_type": "markdown",
   "source": [
    "# extract set of keywords from each post"
   ],
   "metadata": {
    "collapsed": false,
    "pycharm": {
     "name": "#%% md\n"
    }
   }
  },
  {
   "cell_type": "code",
   "execution_count": 27,
   "outputs": [],
   "source": [
    "keywords = yhf.keywords_yake(job_sample)\n",
    "keywords_tokenized = yhf.tokenizing_after_yake(keywords)\n",
    "keywords_sets = [set(job) for job in keywords_tokenized]"
   ],
   "metadata": {
    "collapsed": false,
    "pycharm": {
     "name": "#%%\n"
    }
   }
  },
  {
   "cell_type": "code",
   "execution_count": 29,
   "outputs": [
    {
     "data": {
      "text/plain": "[['français',\n  'english',\n  'menu',\n  'english',\n  'menu',\n  'bar',\n  'menu',\n  'bar',\n  'administration',\n  'communication',\n  'industrie',\n  'consultants',\n  'industrie',\n  'consultants',\n  'santé',\n  'consultants',\n  'santé',\n  'hôtel',\n  'bar',\n  'administration',\n  'informatique',\n  'administration',\n  'informatique',\n  'finance',\n  'finance',\n  'marketing',\n  'communication',\n  'marketing',\n  'communication',\n  'industrie',\n  'ntic',\n  'yaoundé',\n  'cdi',\n  'cameroun',\n  'français',\n  'english',\n  'informatique',\n  'finance',\n  'marketing',\n  'entreprise',\n  'de',\n  'ntic',\n  'douala',\n  'cameroun',\n  'français',\n  'ntic',\n  'douala',\n  'cdi',\n  'hôtel',\n  'rh',\n  'autres',\n  'français',\n  'english',\n  'english',\n  'menu',\n  'menu',\n  'bar'],\n ['français',\n  'english',\n  'menu',\n  'english',\n  'menu',\n  'bar',\n  'menu',\n  'bar',\n  'administration',\n  'finance',\n  'marketing',\n  'communication',\n  'marketing',\n  'communication',\n  'industrie',\n  'communication',\n  'industrie',\n  'consultants',\n  'industrie',\n  'consultants',\n  'santé',\n  'consultants',\n  'santé',\n  'hôtel',\n  'bar',\n  'administration',\n  'informatique',\n  'administration',\n  'informatique',\n  'finance',\n  'informatique',\n  'finance',\n  'marketing',\n  'cameroun',\n  'français',\n  'english',\n  'hôtel',\n  'rh',\n  'autres',\n  'français',\n  'english',\n  'english',\n  'menu',\n  'menu',\n  'bar',\n  'bar',\n  'administration',\n  'finance',\n  'marketing',\n  'marketing',\n  'communication',\n  'communication',\n  'industrie'],\n ['français',\n  'english',\n  'menu',\n  'english',\n  'menu',\n  'bar',\n  'menu',\n  'bar',\n  'administration',\n  'finance',\n  'marketing',\n  'communication',\n  'marketing',\n  'communication',\n  'industrie',\n  'communication',\n  'industrie',\n  'consultants',\n  'industrie',\n  'consultants',\n  'santé',\n  'consultants',\n  'santé',\n  'hôtel',\n  'bar',\n  'administration',\n  'informatique',\n  'administration',\n  'informatique',\n  'finance',\n  'informatique',\n  'finance',\n  'marketing',\n  'cameroun',\n  'français',\n  'english',\n  'contre',\n  'la',\n  'faim',\n  'action',\n  'contre',\n  'douala',\n  'cameroun',\n  'français',\n  'français',\n  'english',\n  'english',\n  'menu',\n  'menu',\n  'bar',\n  'bar',\n  'administration',\n  'finance',\n  'marketing'],\n ['français',\n  'english',\n  'menu',\n  'english',\n  'menu',\n  'bar',\n  'menu',\n  'bar',\n  'administration',\n  'industrie',\n  'consultants',\n  'santé',\n  'consultants',\n  'santé',\n  'hôtel',\n  'bar',\n  'administration',\n  'informatique',\n  'administration',\n  'informatique',\n  'finance',\n  'informatique',\n  'finance',\n  'marketing',\n  'finance',\n  'marketing',\n  'communication',\n  'marketing',\n  'communication',\n  'industrie',\n  'communication',\n  'industrie',\n  'consultants',\n  'cameroun',\n  'français',\n  'english',\n  'administrateur',\n  'des',\n  'ventes',\n  'douala',\n  'cameroun',\n  'français',\n  'millenium',\n  'sarl',\n  'douala',\n  'hôtel',\n  'rh',\n  'autres',\n  'français',\n  'english',\n  'english',\n  'menu',\n  'menu',\n  'bar',\n  'bar',\n  'administration'],\n ['menu',\n  'bar',\n  'administration',\n  'finance',\n  'marketing',\n  'communication',\n  'marketing',\n  'communication',\n  'industrie',\n  'communication',\n  'industrie',\n  'consultants',\n  'industrie',\n  'consultants',\n  'santé',\n  'consultants',\n  'santé',\n  'hôtel',\n  'administration',\n  'informatique',\n  'finance',\n  'informatique',\n  'finance',\n  'marketing',\n  'bar',\n  'administration',\n  'informatique',\n  'français',\n  'english',\n  'menu',\n  'english',\n  'menu',\n  'bar',\n  'enko',\n  'education',\n  'hôtel',\n  'rh',\n  'autres',\n  'menu',\n  'bar',\n  'bar',\n  'administration',\n  'finance',\n  'marketing',\n  'marketing',\n  'communication',\n  'communication',\n  'industrie',\n  'industrie',\n  'consultants',\n  'consultants',\n  'santé']]"
     },
     "execution_count": 29,
     "metadata": {},
     "output_type": "execute_result"
    }
   ],
   "source": [
    "keywords_tokenized[:5]"
   ],
   "metadata": {
    "collapsed": false,
    "pycharm": {
     "name": "#%%\n"
    }
   }
  },
  {
   "cell_type": "code",
   "execution_count": 32,
   "outputs": [
    {
     "data": {
      "text/plain": "['Français English Menu English Menu Bar Menu Bar Administration Communication Industrie Consultants Industrie Consultants Santé Consultants Santé Hôtel Bar Administration Informatique Administration Informatique Finance Finance Marketing Communication Marketing Communication Industrie NTIC Yaoundé CDI Cameroun Français English Informatique Finance Marketing ENTREPRISE DE NTIC Douala Cameroun Français NTIC Douala CDI Hôtel RH Autres Français English English Menu Menu Bar ',\n 'Français English Menu English Menu Bar Menu Bar Administration Finance Marketing Communication Marketing Communication Industrie Communication Industrie Consultants Industrie Consultants Santé Consultants Santé Hôtel Bar Administration Informatique Administration Informatique Finance Informatique Finance Marketing Cameroun Français English Hôtel RH Autres Français English English Menu Menu Bar Bar Administration Finance Marketing Marketing Communication Communication Industrie ',\n 'Français English Menu English Menu Bar Menu Bar Administration Finance Marketing Communication Marketing Communication Industrie Communication Industrie Consultants Industrie Consultants Santé Consultants Santé Hôtel Bar Administration Informatique Administration Informatique Finance Informatique Finance Marketing Cameroun Français English Contre la Faim Action Contre Douala Cameroun Français Français English English Menu Menu Bar Bar Administration Finance Marketing ',\n 'Français English Menu English Menu Bar Menu Bar Administration Industrie Consultants Santé Consultants Santé Hôtel Bar Administration Informatique Administration Informatique Finance Informatique Finance Marketing Finance Marketing Communication Marketing Communication Industrie Communication Industrie Consultants Cameroun Français English Administrateur des Ventes Douala Cameroun Français MILLENIUM SARL Douala Hôtel RH Autres Français English English Menu Menu Bar Bar Administration ',\n 'Menu Bar Administration Finance Marketing Communication Marketing Communication Industrie Communication Industrie Consultants Industrie Consultants Santé Consultants Santé Hôtel Administration Informatique Finance Informatique Finance Marketing Bar Administration Informatique Français English Menu English Menu Bar Enko Education Hôtel RH Autres Menu Bar Bar Administration Finance Marketing Marketing Communication Communication Industrie Industrie Consultants Consultants Santé ']"
     },
     "execution_count": 32,
     "metadata": {},
     "output_type": "execute_result"
    }
   ],
   "source": [
    "keywords[:5]"
   ],
   "metadata": {
    "collapsed": false,
    "pycharm": {
     "name": "#%%\n"
    }
   }
  },
  {
   "cell_type": "code",
   "execution_count": 36,
   "outputs": [
    {
     "data": {
      "text/plain": "                                                    job\n7165  CHARGE(E) D’AFFAIRES - JobInfoCamer.com Email:...\n7166  Développeur Front End expérimenté - JobInfoCam...\n7167  SUPERVISEUR MSA - JobInfoCamer.com Email: aide...\n7168  Administrateur des Ventes junior - JobInfoCame...\n7169  Teachers - JobInfoCamer.com Email: aide@jobinf...\n...                                                 ...\n8160  Rédacteurs web - JobInfoCamer.com Email: aide@...\n8161  Cadre Comptable - JobInfoCamer.com Email: aide...\n8162  Comptable - JobInfoCamer.com Email: aide@jobin...\n8163  CHEF DE CHANTIER - JobInfoCamer.com Email: aid...\n8164  AGENT DE SECURITE - JobInfoCamer.com Email: ai...\n\n[1000 rows x 1 columns]",
      "text/html": "<div>\n<style scoped>\n    .dataframe tbody tr th:only-of-type {\n        vertical-align: middle;\n    }\n\n    .dataframe tbody tr th {\n        vertical-align: top;\n    }\n\n    .dataframe thead th {\n        text-align: right;\n    }\n</style>\n<table border=\"1\" class=\"dataframe\">\n  <thead>\n    <tr style=\"text-align: right;\">\n      <th></th>\n      <th>job</th>\n    </tr>\n  </thead>\n  <tbody>\n    <tr>\n      <th>7165</th>\n      <td>CHARGE(E) D’AFFAIRES - JobInfoCamer.com Email:...</td>\n    </tr>\n    <tr>\n      <th>7166</th>\n      <td>Développeur Front End expérimenté - JobInfoCam...</td>\n    </tr>\n    <tr>\n      <th>7167</th>\n      <td>SUPERVISEUR MSA - JobInfoCamer.com Email: aide...</td>\n    </tr>\n    <tr>\n      <th>7168</th>\n      <td>Administrateur des Ventes junior - JobInfoCame...</td>\n    </tr>\n    <tr>\n      <th>7169</th>\n      <td>Teachers - JobInfoCamer.com Email: aide@jobinf...</td>\n    </tr>\n    <tr>\n      <th>...</th>\n      <td>...</td>\n    </tr>\n    <tr>\n      <th>8160</th>\n      <td>Rédacteurs web - JobInfoCamer.com Email: aide@...</td>\n    </tr>\n    <tr>\n      <th>8161</th>\n      <td>Cadre Comptable - JobInfoCamer.com Email: aide...</td>\n    </tr>\n    <tr>\n      <th>8162</th>\n      <td>Comptable - JobInfoCamer.com Email: aide@jobin...</td>\n    </tr>\n    <tr>\n      <th>8163</th>\n      <td>CHEF DE CHANTIER - JobInfoCamer.com Email: aid...</td>\n    </tr>\n    <tr>\n      <th>8164</th>\n      <td>AGENT DE SECURITE - JobInfoCamer.com Email: ai...</td>\n    </tr>\n  </tbody>\n</table>\n<p>1000 rows × 1 columns</p>\n</div>"
     },
     "execution_count": 36,
     "metadata": {},
     "output_type": "execute_result"
    }
   ],
   "source": [
    "job_data[-1000:]"
   ],
   "metadata": {
    "collapsed": false,
    "pycharm": {
     "name": "#%%\n"
    }
   }
  },
  {
   "cell_type": "code",
   "execution_count": null,
   "outputs": [],
   "source": [],
   "metadata": {
    "collapsed": false,
    "pycharm": {
     "name": "#%%\n"
    }
   }
  },
  {
   "cell_type": "code",
   "execution_count": null,
   "outputs": [],
   "source": [],
   "metadata": {
    "collapsed": false,
    "pycharm": {
     "name": "#%%\n"
    }
   }
  },
  {
   "cell_type": "code",
   "execution_count": null,
   "outputs": [],
   "source": [],
   "metadata": {
    "collapsed": false,
    "pycharm": {
     "name": "#%%\n"
    }
   }
  },
  {
   "cell_type": "code",
   "execution_count": null,
   "outputs": [],
   "source": [],
   "metadata": {
    "collapsed": false,
    "pycharm": {
     "name": "#%%\n"
    }
   }
  },
  {
   "cell_type": "code",
   "execution_count": null,
   "outputs": [],
   "source": [],
   "metadata": {
    "collapsed": false,
    "pycharm": {
     "name": "#%%\n"
    }
   }
  },
  {
   "cell_type": "code",
   "execution_count": null,
   "outputs": [],
   "source": [],
   "metadata": {
    "collapsed": false,
    "pycharm": {
     "name": "#%%\n"
    }
   }
  }
 ],
 "metadata": {
  "kernelspec": {
   "display_name": "Python 3",
   "language": "python",
   "name": "python3"
  },
  "language_info": {
   "codemirror_mode": {
    "name": "ipython",
    "version": 2
   },
   "file_extension": ".py",
   "mimetype": "text/x-python",
   "name": "python",
   "nbconvert_exporter": "python",
   "pygments_lexer": "ipython2",
   "version": "2.7.6"
  },
  "colab": {
   "name": "test.ipynb",
   "provenance": [],
   "toc_visible": true
  }
 },
 "nbformat": 4,
 "nbformat_minor": 0
}
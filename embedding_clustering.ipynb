{
 "cells": [
  {
   "cell_type": "code",
   "metadata": {
    "collapsed": true,
    "pycharm": {
     "name": "#%%\n"
    },
    "id": "Nd7oenfs4T_U"
   },
   "source": [
    "import pandas as pd\n",
    "from core.helpers import yakeHelperFunctions as yhf\n",
    "import glob\n",
    "from bs4 import BeautifulSoup as bs\n",
    "from tqdm import tqdm"
   ],
   "execution_count": 23,
   "outputs": []
  },
  {
   "cell_type": "code",
   "execution_count": 24,
   "outputs": [],
   "source": [
    "job_dir = \"/data/AllProjectIA/Scraping/projet/\""
   ],
   "metadata": {
    "collapsed": false,
    "pycharm": {
     "name": "#%%\n"
    }
   }
  },
  {
   "cell_type": "markdown",
   "source": [
    "# get all text of jobs"
   ],
   "metadata": {
    "collapsed": false,
    "pycharm": {
     "name": "#%% md\n"
    }
   }
  },
  {
   "cell_type": "code",
   "execution_count": 25,
   "outputs": [
    {
     "name": "stderr",
     "output_type": "stream",
     "text": [
      "100%|██████████| 185/185 [00:00<00:00, 6068.34it/s]\n",
      "100%|██████████| 7980/7980 [00:00<00:00, 15692.05it/s]\n"
     ]
    }
   ],
   "source": [
    "html_contents_emploiscm = []\n",
    "html_contents_jobinfos = []\n",
    "for file_name in tqdm(sorted(glob.glob(f'{job_dir}emploi.cm/*.html'))):\n",
    "    with open(file_name, 'r') as f:\n",
    "        html_contents_emploiscm.append(f.read())\n",
    "for file_name in tqdm(sorted(glob.glob(f'{job_dir}jobinfocamer.com/*.html'))):\n",
    "    with open(file_name, 'r') as f:\n",
    "        html_contents_jobinfos.append(f.read())"
   ],
   "metadata": {
    "collapsed": false,
    "pycharm": {
     "name": "#%%\n"
    }
   }
  },
  {
   "cell_type": "code",
   "execution_count": 26,
   "outputs": [
    {
     "name": "stdout",
     "output_type": "stream",
     "text": [
      "nous avons charger 185 HTML files de emplois.cm\n",
      "nous avons charger 7980 HTML files de job info\n"
     ]
    }
   ],
   "source": [
    "print(f\"nous avons charger {len(html_contents_emploiscm)} HTML files de emplois.cm\")\n",
    "print(f\"nous avons charger {len(html_contents_jobinfos)} HTML files de job info\")"
   ],
   "metadata": {
    "collapsed": false,
    "pycharm": {
     "name": "#%%\n"
    }
   }
  },
  {
   "cell_type": "markdown",
   "source": [
    "# remove HTML Tags"
   ],
   "metadata": {
    "collapsed": false,
    "pycharm": {
     "name": "#%% md\n"
    }
   }
  },
  {
   "cell_type": "code",
   "execution_count": 27,
   "outputs": [],
   "source": [
    "def remove_html_tags(html):\n",
    "   soup = bs(html, \"html.parser\")\n",
    "   for data in soup(['style', 'script']):\n",
    "       data.decompose()\n",
    "   return ' '.join(soup.stripped_strings)\n",
    "\n"
   ],
   "metadata": {
    "collapsed": false,
    "pycharm": {
     "name": "#%%\n"
    }
   }
  },
  {
   "cell_type": "code",
   "execution_count": 28,
   "outputs": [],
   "source": [
    "def remove_html_tags_from_description(html):\n",
    "   soup = bs(html, \"html.parser\")\n",
    "   divs = soup.findAll('div', class_='inner clearfix')\n",
    "   return divs\n",
    "\n",
    "def remove_html_tags_from_description2(html):\n",
    "   soup = bs(html, \"html.parser\")\n",
    "   divs = soup.findAll('div', class_='text-justify margin-bottom-30')\n",
    "   return divs"
   ],
   "metadata": {
    "collapsed": false,
    "pycharm": {
     "name": "#%%\n"
    }
   }
  },
  {
   "cell_type": "code",
   "execution_count": 28,
   "outputs": [],
   "source": [],
   "metadata": {
    "collapsed": false,
    "pycharm": {
     "name": "#%%\n"
    }
   }
  },
  {
   "cell_type": "code",
   "execution_count": 29,
   "outputs": [
    {
     "name": "stderr",
     "output_type": "stream",
     "text": [
      "100%|██████████| 185/185 [00:05<00:00, 35.87it/s]\n",
      "100%|██████████| 7980/7980 [02:23<00:00, 55.48it/s]\n"
     ]
    }
   ],
   "source": [
    "contents = []\n",
    "for html in tqdm(html_contents_emploiscm):\n",
    "    divs = remove_html_tags_from_description(html)\n",
    "    for data in divs[2](['style', 'script']):\n",
    "       data.decompose()\n",
    "    text =' '.join(divs[2].stripped_strings)\n",
    "    text  = text.replace(u'\\xa0', u' ')\n",
    "    contents.append(text)\n",
    "for html in tqdm(html_contents_jobinfos):\n",
    "    divs = remove_html_tags_from_description2(html)\n",
    "    for data in divs[0](['style', 'script']):\n",
    "       data.decompose()\n",
    "    text =' '.join(divs[0].stripped_strings)\n",
    "    text  = text.replace(u'\\xa0', u' ')\n",
    "    contents.append(text)\n"
   ],
   "metadata": {
    "collapsed": false,
    "pycharm": {
     "name": "#%%\n"
    }
   }
  },
  {
   "cell_type": "code",
   "execution_count": 30,
   "outputs": [],
   "source": [
    "job_data = pd.DataFrame(contents, columns=['job'])"
   ],
   "metadata": {
    "collapsed": false,
    "pycharm": {
     "name": "#%%\n"
    }
   }
  },
  {
   "cell_type": "code",
   "execution_count": 31,
   "outputs": [],
   "source": [
    "job_data.to_csv(\"dataset/job.csv\", index=False)"
   ],
   "metadata": {
    "collapsed": false,
    "pycharm": {
     "name": "#%%\n"
    }
   }
  },
  {
   "cell_type": "markdown",
   "source": [
    "# cut sample (1000 rows)"
   ],
   "metadata": {
    "collapsed": false,
    "pycharm": {
     "name": "#%% md\n"
    }
   }
  },
  {
   "cell_type": "code",
   "source": [
    "job_sample= job_data.job[-1000:].astype(str)\n",
    "\n"
   ],
   "metadata": {
    "collapsed": false,
    "pycharm": {
     "name": "#%%\n"
    }
   },
   "execution_count": 32,
   "outputs": []
  },
  {
   "cell_type": "markdown",
   "source": [
    "# extract set of keywords from each post"
   ],
   "metadata": {
    "collapsed": false,
    "pycharm": {
     "name": "#%% md\n"
    }
   }
  },
  {
   "cell_type": "code",
   "execution_count": 33,
   "outputs": [],
   "source": [
    "keywords = yhf.keywords_yake(job_sample)\n",
    "keywords_tokenized = yhf.tokenizing_after_yake(keywords)\n",
    "keywords_sets = [set(job) for job in keywords_tokenized]"
   ],
   "metadata": {
    "collapsed": false,
    "pycharm": {
     "name": "#%%\n"
    }
   }
  },
  {
   "cell_type": "code",
   "execution_count": 34,
   "outputs": [
    {
     "data": {
      "text/plain": "[['competences',\n  'requises',\n  'être',\n  'vos',\n  'missions',\n  'prospection',\n  'direction',\n  'competences',\n  'requises',\n  'requises',\n  'être',\n  'titulaire',\n  'vente',\n  'les',\n  'candidats',\n  'titulaire',\n  'd',\n  'un',\n  'bac',\n  'être',\n  'titulaire',\n  'd',\n  'un',\n  'télécommunications',\n  'excellente',\n  'élocution',\n  'les',\n  'candidats',\n  'ayant',\n  'secteur',\n  'des',\n  'télécommunications',\n  'des',\n  'télécommunications',\n  'excellente',\n  'vente',\n  'réalisation',\n  'des',\n  'vente',\n  'remontée',\n  'des',\n  'ans',\n  'd',\n  'expérience',\n  'professionnelle',\n  'pourront',\n  'faire',\n  'parvenir',\n  'bien',\n  'vouloir',\n  'préciser',\n  'suivi',\n  'des',\n  'objectifs',\n  'nouveaux',\n  'clients',\n  'fidélisation',\n  'portefeuille',\n  'clients',\n  'présentation',\n  'clients',\n  'présentation',\n  'des'],\n ['offre',\n  'd',\n  'emploi',\n  'nous',\n  'offre',\n  'd',\n  'emploi',\n  'personnes',\n  'talentueuses',\n  'qui',\n  'talentueuses',\n  'qui',\n  'aimeraient',\n  'qui',\n  'aimeraient',\n  'renforcer',\n  'aimeraient',\n  'renforcer',\n  'notre',\n  'renforcer',\n  'notre',\n  'équipe',\n  'web',\n  'description',\n  'analyses',\n  'recherche',\n  'des',\n  'personnes',\n  'des',\n  'personnes',\n  'talentueuses',\n  'd',\n  'emploi',\n  'nous',\n  'sommes',\n  'description',\n  'analyses',\n  'personnes',\n  'talentueuses',\n  'talentueuses',\n  'qui',\n  'qui',\n  'aimeraient',\n  'aimeraient',\n  'renforcer',\n  'renforcer',\n  'notre',\n  'notre',\n  'équipe',\n  'équipe',\n  'et',\n  'construire',\n  'construire',\n  'le',\n  'futur'],\n ['offre',\n  'd',\n  'emploi',\n  'action',\n  'contre',\n  'la',\n  'faim',\n  'd',\n  'emploi',\n  'action',\n  'contre',\n  'action',\n  'contre',\n  'offre',\n  'd',\n  'emploi',\n  'faim',\n  'est',\n  'une',\n  'recrutement',\n  'action',\n  'contre',\n  'par',\n  'action',\n  'contre',\n  'contre',\n  'seuls',\n  'les',\n  'candidats',\n  'adjoint',\n  'responsable',\n  'programme',\n  'les',\n  'est',\n  'une',\n  'organisation',\n  'faim',\n  'cameroun',\n  'seuls',\n  'faim',\n  'faim',\n  'est',\n  'organisation',\n  'non',\n  'gouvernementale',\n  'domicile',\n  'maroua',\n  'salaire',\n  'maroua',\n  'salaire',\n  'brut',\n  'd',\n  'emploi',\n  'action'],\n ['fin',\n  'barrière',\n  'scdp',\n  'millenium',\n  'print',\n  'cameroun',\n  'société',\n  'millenium',\n  'print',\n  'print',\n  'cameroun',\n  'basée',\n  'camp',\n  'des',\n  'officiers',\n  'administrateur',\n  'des',\n  'ventes',\n  'des',\n  'ventes',\n  'junior',\n  'fin',\n  'barrière',\n  'mettre',\n  'sur',\n  'pieds',\n  'millenium',\n  'print',\n  'print',\n  'cameroun',\n  'barrière',\n  'scdp',\n  'aura',\n  'pour',\n  'mission',\n  'fourniture',\n  'des',\n  'supports',\n  'des',\n  'supports',\n  'publicitaires',\n  'services',\n  'poste',\n  'proposé',\n  'des',\n  'ventes',\n  'aura',\n  'ses',\n  'services',\n  'poste',\n  'des',\n  'ventes',\n  'administrateur',\n  'des'],\n ['job',\n  'advert',\n  'enko',\n  'advert',\n  'enko',\n  'education',\n  'job',\n  'advert',\n  'enko',\n  'education',\n  'education',\n  'enko',\n  'education',\n  'enko',\n  'education',\n  'enko',\n  'education',\n  'advert',\n  'enko',\n  'recruiting',\n  'teachers',\n  'enko',\n  'burkina',\n  'faso',\n  'botswana',\n  'and',\n  'lesotho',\n  'education',\n  'is',\n  'recruiting',\n  'education',\n  'enko',\n  'enko',\n  'education',\n  'model',\n  'african',\n  'job',\n  'african',\n  'leadership',\n  'university',\n  'advert',\n  'africa']]"
     },
     "execution_count": 34,
     "metadata": {},
     "output_type": "execute_result"
    }
   ],
   "source": [
    "keywords_tokenized[:5]"
   ],
   "metadata": {
    "collapsed": false,
    "pycharm": {
     "name": "#%%\n"
    }
   }
  },
  {
   "cell_type": "code",
   "execution_count": 35,
   "outputs": [
    {
     "data": {
      "text/plain": "['COMPETENCES REQUISES Être VOS MISSIONS prospection direction COMPETENCES REQUISES REQUISES Être titulaire vente Les candidats titulaire d’un BAC Être titulaire d’un Télécommunications excellente élocution Les candidats ayant secteur des Télécommunications des Télécommunications excellente vente réalisation des vente remontée des ans d’expérience professionnelle pourront faire parvenir bien vouloir préciser suivi des objectifs nouveaux clients fidélisation portefeuille clients présentation clients présentation des ',\n \"OFFRE D'EMPLOI Nous OFFRE D'EMPLOI personnes talentueuses qui talentueuses qui aimeraient qui aimeraient renforcer aimeraient renforcer notre renforcer notre équipe Web Description Analyses recherche des personnes des personnes talentueuses D'EMPLOI Nous sommes Description Analyses personnes talentueuses talentueuses qui qui aimeraient aimeraient renforcer renforcer notre notre équipe équipe et construire construire le futur \",\n \"OFFRE D'EMPLOI Action Contre la Faim D'EMPLOI Action Contre Action Contre OFFRE D'EMPLOI Faim est une recrutement Action Contre par Action Contre Contre seuls les candidats ADJOINT RESPONSABLE PROGRAMME les est une Organisation Faim Cameroun Seuls Faim Faim est Organisation Non Gouvernementale domicile Maroua Salaire Maroua Salaire brut D'EMPLOI Action \",\n 'Fin Barrière SCDP MILLENIUM PRINT CAMEROUN société MILLENIUM PRINT PRINT CAMEROUN basée Camp Des Officiers Administrateur des Ventes des Ventes junior Fin Barrière mettre sur pieds MILLENIUM PRINT PRINT CAMEROUN Barrière SCDP aura pour mission fourniture des supports des supports publicitaires services Poste proposé des ventes aura ses services Poste des Ventes Administrateur des ',\n 'JOB ADVERT Enko ADVERT Enko Education JOB ADVERT Enko Education Education Enko Education Enko Education Enko Education ADVERT Enko recruiting teachers Enko Burkina Faso Botswana and Lesotho Education is recruiting Education Enko Enko Education model African JOB African Leadership University ADVERT Africa ']"
     },
     "execution_count": 35,
     "metadata": {},
     "output_type": "execute_result"
    }
   ],
   "source": [
    "keywords[:5]"
   ],
   "metadata": {
    "collapsed": false,
    "pycharm": {
     "name": "#%%\n"
    }
   }
  },
  {
   "cell_type": "code",
   "execution_count": 36,
   "outputs": [
    {
     "data": {
      "text/plain": "                                                    job\n7165  CHARGE(E) D’AFFAIRES - JobInfoCamer.com Email:...\n7166  Développeur Front End expérimenté - JobInfoCam...\n7167  SUPERVISEUR MSA - JobInfoCamer.com Email: aide...\n7168  Administrateur des Ventes junior - JobInfoCame...\n7169  Teachers - JobInfoCamer.com Email: aide@jobinf...\n...                                                 ...\n8160  Rédacteurs web - JobInfoCamer.com Email: aide@...\n8161  Cadre Comptable - JobInfoCamer.com Email: aide...\n8162  Comptable - JobInfoCamer.com Email: aide@jobin...\n8163  CHEF DE CHANTIER - JobInfoCamer.com Email: aid...\n8164  AGENT DE SECURITE - JobInfoCamer.com Email: ai...\n\n[1000 rows x 1 columns]",
      "text/html": "<div>\n<style scoped>\n    .dataframe tbody tr th:only-of-type {\n        vertical-align: middle;\n    }\n\n    .dataframe tbody tr th {\n        vertical-align: top;\n    }\n\n    .dataframe thead th {\n        text-align: right;\n    }\n</style>\n<table border=\"1\" class=\"dataframe\">\n  <thead>\n    <tr style=\"text-align: right;\">\n      <th></th>\n      <th>job</th>\n    </tr>\n  </thead>\n  <tbody>\n    <tr>\n      <th>7165</th>\n      <td>CHARGE(E) D’AFFAIRES - JobInfoCamer.com Email:...</td>\n    </tr>\n    <tr>\n      <th>7166</th>\n      <td>Développeur Front End expérimenté - JobInfoCam...</td>\n    </tr>\n    <tr>\n      <th>7167</th>\n      <td>SUPERVISEUR MSA - JobInfoCamer.com Email: aide...</td>\n    </tr>\n    <tr>\n      <th>7168</th>\n      <td>Administrateur des Ventes junior - JobInfoCame...</td>\n    </tr>\n    <tr>\n      <th>7169</th>\n      <td>Teachers - JobInfoCamer.com Email: aide@jobinf...</td>\n    </tr>\n    <tr>\n      <th>...</th>\n      <td>...</td>\n    </tr>\n    <tr>\n      <th>8160</th>\n      <td>Rédacteurs web - JobInfoCamer.com Email: aide@...</td>\n    </tr>\n    <tr>\n      <th>8161</th>\n      <td>Cadre Comptable - JobInfoCamer.com Email: aide...</td>\n    </tr>\n    <tr>\n      <th>8162</th>\n      <td>Comptable - JobInfoCamer.com Email: aide@jobin...</td>\n    </tr>\n    <tr>\n      <th>8163</th>\n      <td>CHEF DE CHANTIER - JobInfoCamer.com Email: aid...</td>\n    </tr>\n    <tr>\n      <th>8164</th>\n      <td>AGENT DE SECURITE - JobInfoCamer.com Email: ai...</td>\n    </tr>\n  </tbody>\n</table>\n<p>1000 rows × 1 columns</p>\n</div>"
     },
     "execution_count": 36,
     "metadata": {},
     "output_type": "execute_result"
    }
   ],
   "source": [
    "job_data[-1000:]"
   ],
   "metadata": {
    "collapsed": false,
    "pycharm": {
     "name": "#%%\n"
    }
   }
  },
  {
   "cell_type": "code",
   "execution_count": null,
   "outputs": [],
   "source": [],
   "metadata": {
    "collapsed": false,
    "pycharm": {
     "name": "#%%\n"
    }
   }
  },
  {
   "cell_type": "code",
   "execution_count": null,
   "outputs": [],
   "source": [],
   "metadata": {
    "collapsed": false,
    "pycharm": {
     "name": "#%%\n"
    }
   }
  },
  {
   "cell_type": "code",
   "execution_count": null,
   "outputs": [],
   "source": [],
   "metadata": {
    "collapsed": false,
    "pycharm": {
     "name": "#%%\n"
    }
   }
  },
  {
   "cell_type": "code",
   "execution_count": null,
   "outputs": [],
   "source": [],
   "metadata": {
    "collapsed": false,
    "pycharm": {
     "name": "#%%\n"
    }
   }
  },
  {
   "cell_type": "code",
   "execution_count": null,
   "outputs": [],
   "source": [],
   "metadata": {
    "collapsed": false,
    "pycharm": {
     "name": "#%%\n"
    }
   }
  },
  {
   "cell_type": "code",
   "execution_count": null,
   "outputs": [],
   "source": [],
   "metadata": {
    "collapsed": false,
    "pycharm": {
     "name": "#%%\n"
    }
   }
  }
 ],
 "metadata": {
  "kernelspec": {
   "display_name": "Python 3",
   "language": "python",
   "name": "python3"
  },
  "language_info": {
   "codemirror_mode": {
    "name": "ipython",
    "version": 2
   },
   "file_extension": ".py",
   "mimetype": "text/x-python",
   "name": "python",
   "nbconvert_exporter": "python",
   "pygments_lexer": "ipython2",
   "version": "2.7.6"
  },
  "colab": {
   "name": "test.ipynb",
   "provenance": [],
   "toc_visible": true
  }
 },
 "nbformat": 4,
 "nbformat_minor": 0
}
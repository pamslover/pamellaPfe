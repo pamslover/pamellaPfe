{
 "cells": [
  {
   "cell_type": "markdown",
   "metadata": {
    "collapsed": true,
    "pycharm": {
     "name": "#%% md\n"
    }
   },
   "source": [
    "# defi: hdfs to pyspark and reverse\n",
    "    - faire une communnication bidirectionnel entre spark hebergé sur la machine hote et hdfs hebergé sur docker(cluster hadoop)"
   ]
  },
  {
   "cell_type": "code",
   "execution_count": 1,
   "outputs": [],
   "source": [
    "from pyspark.sql import SparkSession"
   ],
   "metadata": {
    "collapsed": false,
    "pycharm": {
     "name": "#%%\n"
    }
   }
  },
  {
   "cell_type": "code",
   "execution_count": 2,
   "outputs": [
    {
     "name": "stderr",
     "output_type": "stream",
     "text": [
      "bash: warning: setlocale: LC_ALL: cannot change locale (en_US.UTF-8)\n",
      "bash: warning: setlocale: LC_ALL: cannot change locale (en_US.UTF-8)\n",
      "Picked up _JAVA_OPTIONS: -Dawt.useSystemAAFontSettings=on -Dswing.aatext=true\n",
      "Picked up _JAVA_OPTIONS: -Dawt.useSystemAAFontSettings=on -Dswing.aatext=true\n"
     ]
    },
    {
     "name": "stdout",
     "output_type": "stream",
     "text": [
      "22/10/22 14:23:19 WARN Utils: Your hostname, kaliAlphadeep resolves to a loopback address: 127.0.1.1; using 172.17.4.38 instead (on interface wlan0)\n",
      "22/10/22 14:23:19 WARN Utils: Set SPARK_LOCAL_IP if you need to bind to another address\n"
     ]
    },
    {
     "name": "stderr",
     "output_type": "stream",
     "text": [
      "Setting default log level to \"WARN\".\n",
      "To adjust logging level use sc.setLogLevel(newLevel). For SparkR, use setLogLevel(newLevel).\n"
     ]
    },
    {
     "name": "stdout",
     "output_type": "stream",
     "text": [
      "22/10/22 14:23:20 WARN NativeCodeLoader: Unable to load native-hadoop library for your platform... using builtin-java classes where applicable\n"
     ]
    }
   ],
   "source": [
    "spark = SparkSession.builder.appName('Deeplearn').getOrCreate()"
   ],
   "metadata": {
    "collapsed": false,
    "pycharm": {
     "name": "#%%\n"
    }
   }
  },
  {
   "cell_type": "code",
   "execution_count": 3,
   "outputs": [],
   "source": [
    "df = spark.read.csv(\"hdfs://172.21.0.2:9000/data/job.csv\")"
   ],
   "metadata": {
    "collapsed": false,
    "pycharm": {
     "name": "#%%\n"
    }
   }
  },
  {
   "cell_type": "code",
   "execution_count": 4,
   "outputs": [
    {
     "name": "stdout",
     "output_type": "stream",
     "text": [
      "+--------------------+\n",
      "|                 _c0|\n",
      "+--------------------+\n",
      "|                 job|\n",
      "|Offre d'emploi Ca...|\n",
      "|Offre d'emploi Ca...|\n",
      "|Offre d'emploi Ca...|\n",
      "|Offre d'emploi Ca...|\n",
      "|Offre d'emploi Ca...|\n",
      "|Offre d'emploi Ca...|\n",
      "|Offre d'emploi Ca...|\n",
      "|Offre d'emploi Ca...|\n",
      "|Offre d'emploi Ca...|\n",
      "|Offre d'emploi Ca...|\n",
      "|Offre d'emploi Ca...|\n",
      "|Offre d'emploi Ca...|\n",
      "|Offre d'emploi Ca...|\n",
      "|Offre d'emploi Ca...|\n",
      "|Offre d'emploi Ca...|\n",
      "|Offre d'emploi Ca...|\n",
      "|Offre d'emploi Ca...|\n",
      "|Offre d'emploi Ca...|\n",
      "|Offre d'emploi Ca...|\n",
      "+--------------------+\n",
      "only showing top 20 rows\n",
      "\n"
     ]
    }
   ],
   "source": [
    "df.show()"
   ],
   "metadata": {
    "collapsed": false,
    "pycharm": {
     "name": "#%%\n"
    }
   }
  },
  {
   "cell_type": "code",
   "execution_count": 6,
   "outputs": [
    {
     "data": {
      "text/plain": "DataFrame[summary: string, _c0: string]"
     },
     "execution_count": 6,
     "metadata": {},
     "output_type": "execute_result"
    }
   ],
   "source": [
    "df.describe()"
   ],
   "metadata": {
    "collapsed": false,
    "pycharm": {
     "name": "#%%\n"
    }
   }
  },
  {
   "cell_type": "code",
   "execution_count": 7,
   "outputs": [
    {
     "data": {
      "text/plain": "8166"
     },
     "execution_count": 7,
     "metadata": {},
     "output_type": "execute_result"
    }
   ],
   "source": [
    "df.count()"
   ],
   "metadata": {
    "collapsed": false,
    "pycharm": {
     "name": "#%%\n"
    }
   }
  },
  {
   "cell_type": "code",
   "execution_count": 12,
   "outputs": [
    {
     "data": {
      "text/plain": "['_c0']"
     },
     "execution_count": 12,
     "metadata": {},
     "output_type": "execute_result"
    }
   ],
   "source": [
    "df.columns"
   ],
   "metadata": {
    "collapsed": false,
    "pycharm": {
     "name": "#%%\n"
    }
   }
  },
  {
   "cell_type": "code",
   "execution_count": 13,
   "outputs": [
    {
     "name": "stdout",
     "output_type": "stream",
     "text": [
      "Row(_c0=\"Offre d'emploi Cameroun : Secrétaire Commercial - Douala - Douala Skip to main content area Accueil candidat Rechercher un emploi Ils recrutent Accueil recruteur Nos services Trouver des CV Packs annonces Packs CV AfricaWork AfricaShore Boostez votre carrière Engagés pour l'emploi au Cameroun et en Afrique Téléchargez notre application Emploi gratuite sur Google Play Installer Se connecter S´inscrire Boostez Votre Carrière Accueil candidat Rechercher un emploi Ils recrutent Accueil recruteur Secrétaire Commercial Postuler Publiée le 18.03.2022 Partagez cette annonce Entreprise NECAM SARL Site Internet : http://www.necam-sarl.com/ Secteur d´activité : Location Éducation, formation Services autres Évènementiel, hôte(sse), accueil Tourisme, loisirs Offres d´emploi : Voir toutes nos annonces Description de l'entreprise Nous sommes dotés d’une équipe dirigeante professionnelle et très dynamique dont la mission essentielle est la satisfaction de la clientèle.... lire la suite Détails de l'annonce Poste proposé : Secrétaire Commercial Nous recrutons une Secrétaire Commercial pour un Stage Payant . Responsabilités Principales : Exécution des différentes commissions de sa hiérarchie : Effectue les opérations classiques de secrétariat et d’accueil : réception et orientation\\xa0 des clients,\\xa0 archivage, ouverture et affectation du courrier, gestion des boites mail de l’entreprise et répondre aux courriels Filtrer les appels et prospecter sur les différentes plates formes préparation des éléments de réponse\\xa0 au différents partenaire, rédaction de correspondance, filtrage des appels téléphoniques, gestion des fournitures matériels et travaux externe, mise à jour des bases de données, des fichiers, Réalise et / ou centralise les comptes rendus et les différents rapports en direction de sa hiérarchie Rédige\\xa0 les différentes notes internes à partir d’instructions orales ou manuscrites, les soumettre au contrôle et à la signature, les reproduit et les diffuse. Réception, orientation et gestion des visiteurs Suivi de démarches\\xa0administratives\\xa0diverses Suivi de divers\\xa0abonnements ********************* Chèr(e) candidat(e) N’ envoyez pas d’argent à un employeur potentiel . Ne versez aucune somme d’argent en échange d’un contrat de travail potentiel. Profil recherché pour le poste : Secrétaire Commercial Profil du poste Formation en\\xa0 secrétariat, marketing commerce vente ou équivalent Niveau d'expérience minimum : minimum 1 an Très bonne connaissance des outils Excel, Word et PowerPoint Très bonne maîtrise du français et de l'anglais dans l'expression orale et écrite. Bonne connaissances du marché de l’immigration et la formation linguistique Compétences : Avoir déjà travailler dans une agence d'immigration est un atout Autres Qualités relationnelles : réactivité sens de l’écoute, diplomatie, patience Créativité et\\xa0sens\\xa0de\\xa0l'organisation\\xa0du\\xa0travail. Excellentes\\xa0capacités\\xa0de\\xa0travail\\xa0en\\xa0équipe,\\xa0d'analyse\\xa0et\\xa0de\\xa0communication. Souplesse\\xa0dans\\xa0l'exécution\\xa0des tâches. Adhésion au projet d’entreprise Aisance rédactionnelle et relationnelle Très bonne maîtrise de l’outil informatique Bonne présentation Sens des responsabilités, respect des procédures. Dossier de candidature : Curriculum Vitae actualisé avec photo. Merci de nous envoyer votre CV via ce site . Critères de l'annonce pour le poste : Secrétaire Commercial Métier : Marketing, communication Secretariat, assistanat Secteur d´activité : Location Marketing, communication, médias Secrétariat Services autres Tourisme, loisirs Type de contrat : CDD - Stage Région : Douala Ville : Douala Niveau d'expérience : Débutant < 2 ans Niveau d'études : Bac Langues exigées : anglais › intermédiaire français › maternelle Nombre de poste(s) : 1 Postuler Partagez cette offre avec votre réseau Autres offres d’emploi susceptibles de vous intéresser Chargés du Développement Commercial 30/03/22 | HAPPY CLEAN SERVICES SARL Une entreprise basée à Douala recherche pour ses services deux (02) Chargés du Développement Commercial\\xa0 avec de très bonnes connaissances en vente Travail à plein temps. ********************* Chèr(e) candidat(e) N’ envoyez pas d’argent à un employeur pot ... Région de : Douala Rédacteur d'Actualité- Rédacteur Web Junior et Confirmé (H/F) 01/04/22 | LEBLEDPARLE Vos missions Vous êtes passionné de l’actualité généraliste ou d’une thématique spécifique telle que la politique, le sport, la culture, le High-Tech, l’actu people ou encore l’actualité musicale..., dans ce cadre, vous aurez les missions suivantes: Les r ... Région de : Bafoussam - Bamenda - Bertoua - Buéa - Douala - Ebolowa - Garoua... Chargé de la Communication et du Marketing Digital (H/F) 31/03/22 | SHLIFE SAS DESCRIPTION DE POSTE Desanne SAS est une Startup de Production et Communication Opérationnelles, Spécialisée dans le domaine du Management des Events, Reportages, Pubs et\\xa0Design Numérique. Elle se positionne de manière concurrentielle dans le secteur du m ... Région de : Douala Journalist Editor- Web Media (M/F) 01/04/22 | LEBLEDPARLE Lebledparle.com is looking for a passionate news writer to publish his articles on the news of the English-speaking region. Passion for words, business expertise, dynamism and a rigorous web culture... Missions: As a writer of the English speaking categor ... Région de : Bafoussam - Bamenda - Bertoua - Buéa - Douala - Ebolowa - Garoua... Toutes les offres d´emploi Qui sommes-nous ? Plan du site FAQ Contact Rejoignez-nous sur Facebook LinkedIn Offres d´emploi par métier Achats Cameroun Commercial, vente Cameroun Gestion, comptabilité, finance Cameroun Informatique, nouvelles technologies Cameroun Juridique Cameroun Management, direction générale Cameroun Marketing, communication Cameroun Métiers de la santé et du social Cameroun Métiers des services Cameroun Métiers du BTP Cameroun Production, maintenance, qualité Cameroun R&D, gestion de projets Cameroun RH, formation Cameroun Secretariat, assistanat Cameroun Tourisme, hôtellerie, restauration Cameroun Transport, logistique Cameroun Offres d´emploi par région Offres d´emploi Bafoussam Offres d´emploi Bamenda Offres d´emploi Bertoua Offres d´emploi Buéa Offres d´emploi Douala Offres d´emploi Ebolowa Offres d´emploi Garoua Offres d´emploi Maroua Offres d´emploi Ngaoundéré Offres d´emploi Yaoundé Index des emplois Métiers : A-B C D-E F-L M-O P-R S-W Secteurs d´activité : A-E F G-P Q-W Compétences IT : 1-9 A-D E-L M-R S-Z Villes Ingénieurs Emplois actifs Index des Recrutements Métiers : A-B C D-E F-L M-O P-R S-W Secteurs d´activité : A-E F G-P Q-W Compétences IT : 1-9 A-D E-L M-R S-Z Ingénieurs Villes Recrutements permanents Emploi.cm est un site de Le service de recrutement n°1 en Afrique Emploi Maroc Emploi Côte d’Ivoire Emploi Congo Emploi Cameroun Emploi Sénégal Emploi Burkina Faso Emploi Guinée Emploi Togo Emploi Gabon Emploi Mauritanie Emploi Bénin Emploi Mali Emploi Congo RDC Emploi Algérie Emploi Tunisie Emploi Niger Emploi Tchad Emploi Burundi Emploi Ghana Emploi Nigeria Emploi Egypte Emploi Ethiopie Emploi Kenya Emploi Ouganda Emploi Rwanda Emploi Tanzanie Emploi Soudan Emploi Botswana Emploi Malawi Emploi Namibie Emploi Zambie Emploi Zimbabwe Emploi Libéria Emploi Sierra Leone Emploi Afrique du Sud Emploi Soudan du Sud Emploi Centrafrique Copyright ©2018 Africawork - Tous droits réservés Let´s Encrypt SSL Certificate Secured Conditions Générales d'Utilisation Conditions Générales de Vente Mentions légales Propriété Intellectuelle Copyright ©2022 Africawork - Tous droits réservés\")\n"
     ]
    }
   ],
   "source": [
    "print(df.collect()[1])"
   ],
   "metadata": {
    "collapsed": false,
    "pycharm": {
     "name": "#%%\n"
    }
   }
  },
  {
   "cell_type": "code",
   "execution_count": null,
   "outputs": [],
   "source": [],
   "metadata": {
    "collapsed": false,
    "pycharm": {
     "name": "#%%\n"
    }
   }
  }
 ],
 "metadata": {
  "kernelspec": {
   "display_name": "Python 3",
   "language": "python",
   "name": "python3"
  },
  "language_info": {
   "codemirror_mode": {
    "name": "ipython",
    "version": 2
   },
   "file_extension": ".py",
   "mimetype": "text/x-python",
   "name": "python",
   "nbconvert_exporter": "python",
   "pygments_lexer": "ipython2",
   "version": "2.7.6"
  }
 },
 "nbformat": 4,
 "nbformat_minor": 0
}
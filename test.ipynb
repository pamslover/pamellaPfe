{
 "cells": [
  {
   "cell_type": "markdown",
   "metadata": {
    "collapsed": true,
    "pycharm": {
     "name": "#%% md\n"
    },
    "id": "Nd7oenfs4T_U"
   },
   "source": [
    "rien de bon"
   ]
  },
  {
   "cell_type": "markdown",
   "source": [
    "modify by pams kfshjvbojdgfiudshlfjhkhbfihsgfbdsuykhgfsihkfdbsdhfsd dshkfgbsjkbhfkhfhbdsjhghsfbhgsrhgi\n",
    "jhguyfyuikfguyrtutfufgvujyfguytfguyfgyuyfguyuyfguy\n"
   ],
   "metadata": {
    "id": "iQ6jH0mN4VOI"
   }
  },
  {
   "cell_type": "code",
   "source": [
    ""
   ],
   "metadata": {
    "id": "aITkdIoN4eX4"
   },
   "execution_count": null,
   "outputs": []
  }
 ],
 "metadata": {
  "kernelspec": {
   "display_name": "Python 3",
   "language": "python",
   "name": "python3"
  },
  "language_info": {
   "codemirror_mode": {
    "name": "ipython",
    "version": 2
   },
   "file_extension": ".py",
   "mimetype": "text/x-python",
   "name": "python",
   "nbconvert_exporter": "python",
   "pygments_lexer": "ipython2",
   "version": "2.7.6"
  },
  "colab": {
   "name": "test.ipynb",
   "provenance": [],
   "toc_visible": true
  }
 },
 "nbformat": 4,
 "nbformat_minor": 0
}
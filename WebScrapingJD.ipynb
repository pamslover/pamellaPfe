{
  "cells": [
    {
      "cell_type": "markdown",
      "metadata": {
        "id": "view-in-github",
        "colab_type": "text"
      },
      "source": [
        "<a href=\"https://colab.research.google.com/github/pamslover/pamellaPfe/blob/main/WebScrapingJD.ipynb\" target=\"_parent\"><img src=\"https://colab.research.google.com/assets/colab-badge.svg\" alt=\"Open In Colab\"/></a>"
      ]
    },
    {
      "cell_type": "code",
      "source": [
        "from google.colab import drive\n",
        "drive.mount('/content/drive')"
      ],
      "metadata": {
        "colab": {
          "base_uri": "https://localhost:8080/"
        },
        "id": "rW0MkBo3wSIs",
        "outputId": "fed080a1-c8b0-4bfc-e9e4-e48fa8b64e21"
      },
      "id": "rW0MkBo3wSIs",
      "execution_count": 17,
      "outputs": [
        {
          "output_type": "stream",
          "name": "stdout",
          "text": [
            "Mounted at /content/drive\n"
          ]
        }
      ]
    },
    {
      "cell_type": "code",
      "source": [
        "!pip install unidecode"
      ],
      "metadata": {
        "colab": {
          "base_uri": "https://localhost:8080/"
        },
        "id": "2eW__qq4Ocot",
        "outputId": "3b112c97-9bd0-42ab-c04a-142b555773a4"
      },
      "id": "2eW__qq4Ocot",
      "execution_count": 1,
      "outputs": [
        {
          "output_type": "stream",
          "name": "stdout",
          "text": [
            "Looking in indexes: https://pypi.org/simple, https://us-python.pkg.dev/colab-wheels/public/simple/\n",
            "Collecting unidecode\n",
            "  Downloading Unidecode-1.3.6-py3-none-any.whl (235 kB)\n",
            "\u001b[2K     \u001b[90m━━━━━━━━━━━━━━━━━━━━━━━━━━━━━━━━━━━━━━━\u001b[0m \u001b[32m235.9/235.9 KB\u001b[0m \u001b[31m4.7 MB/s\u001b[0m eta \u001b[36m0:00:00\u001b[0m\n",
            "\u001b[?25hInstalling collected packages: unidecode\n",
            "Successfully installed unidecode-1.3.6\n"
          ]
        }
      ]
    },
    {
      "cell_type": "code",
      "source": [
        "!pip install langid"
      ],
      "metadata": {
        "colab": {
          "base_uri": "https://localhost:8080/"
        },
        "id": "jPj4OGGEH7eQ",
        "outputId": "62d336bc-7fef-453a-bda8-4f79e3316b80"
      },
      "id": "jPj4OGGEH7eQ",
      "execution_count": 141,
      "outputs": [
        {
          "output_type": "stream",
          "name": "stdout",
          "text": [
            "Looking in indexes: https://pypi.org/simple, https://us-python.pkg.dev/colab-wheels/public/simple/\n",
            "Collecting langid\n",
            "  Downloading langid-1.1.6.tar.gz (1.9 MB)\n",
            "\u001b[2K     \u001b[90m━━━━━━━━━━━━━━━━━━━━━━━━━━━━━━━━━━━━━━━━\u001b[0m \u001b[32m1.9/1.9 MB\u001b[0m \u001b[31m21.5 MB/s\u001b[0m eta \u001b[36m0:00:00\u001b[0m\n",
            "\u001b[?25h  Preparing metadata (setup.py) ... \u001b[?25l\u001b[?25hdone\n",
            "Requirement already satisfied: numpy in /usr/local/lib/python3.8/dist-packages (from langid) (1.21.6)\n",
            "Building wheels for collected packages: langid\n",
            "  Building wheel for langid (setup.py) ... \u001b[?25l\u001b[?25hdone\n",
            "  Created wheel for langid: filename=langid-1.1.6-py3-none-any.whl size=1941188 sha256=c33ed78228e8d599cd33566c4cdac2cb2ced7e0f21f9a6afcdc9c8d553e8de13\n",
            "  Stored in directory: /root/.cache/pip/wheels/c5/01/a4/0160c55074707b535a6757a541842817d530d8080ca943a107\n",
            "Successfully built langid\n",
            "Installing collected packages: langid\n",
            "Successfully installed langid-1.1.6\n"
          ]
        }
      ]
    },
    {
      "cell_type": "code",
      "execution_count": 2,
      "id": "4da8e659-892a-4ebb-a3ee-663a4d9d0ea1",
      "metadata": {
        "id": "4da8e659-892a-4ebb-a3ee-663a4d9d0ea1"
      },
      "outputs": [],
      "source": [
        "import glob\n",
        "import unicodedata\n",
        "from bs4 import BeautifulSoup as bs\n",
        "import pandas as pd\n",
        "from sklearn.feature_extraction import text\n",
        "from sklearn.feature_extraction.text import TfidfVectorizer\n",
        "\n",
        "from IPython.core.display import display, HTML"
      ]
    },
    {
      "cell_type": "code",
      "source": [
        "import nltk\n",
        "nltk.download('punkt')\n",
        "nltk.download(\"stopwords\")"
      ],
      "metadata": {
        "colab": {
          "base_uri": "https://localhost:8080/"
        },
        "id": "JeqQnRTzsPZb",
        "outputId": "bdac4bbd-f9ee-4a1e-db6b-d7ee416c94d5"
      },
      "id": "JeqQnRTzsPZb",
      "execution_count": 3,
      "outputs": [
        {
          "output_type": "stream",
          "name": "stderr",
          "text": [
            "[nltk_data] Downloading package punkt to /root/nltk_data...\n",
            "[nltk_data]   Unzipping tokenizers/punkt.zip.\n",
            "[nltk_data] Downloading package stopwords to /root/nltk_data...\n",
            "[nltk_data]   Unzipping corpora/stopwords.zip.\n"
          ]
        },
        {
          "output_type": "execute_result",
          "data": {
            "text/plain": [
              "True"
            ]
          },
          "metadata": {},
          "execution_count": 3
        }
      ]
    },
    {
      "cell_type": "code",
      "execution_count": 18,
      "id": "e59789e1-5177-46cb-bfa1-80831832b5e7",
      "metadata": {
        "id": "e59789e1-5177-46cb-bfa1-80831832b5e7"
      },
      "outputs": [],
      "source": [
        "\n",
        "html_contents_emploiscm = []\n",
        "html_contents_jobinfos = []\n",
        "for file_name in sorted(glob.glob('/content/drive/MyDrive/projet pfe/emploi.cm/*.html')):\n",
        "    with open(file_name, 'r') as f:\n",
        "        html_contents_emploiscm.append(f.read())\n",
        "for file_name in sorted(glob.glob('/content/drive/MyDrive/projet pfe/jobinfocamer.com/*.html')):\n",
        "    with open(file_name, 'r') as f:\n",
        "        html_contents_jobinfos.append(f.read())"
      ]
    },
    {
      "cell_type": "code",
      "execution_count": 19,
      "id": "d871dfb5-ff84-4b55-992c-389f6017794c",
      "metadata": {
        "colab": {
          "base_uri": "https://localhost:8080/"
        },
        "id": "d871dfb5-ff84-4b55-992c-389f6017794c",
        "outputId": "93ecebf3-006a-42c7-a738-06033118335f"
      },
      "outputs": [
        {
          "output_type": "stream",
          "name": "stdout",
          "text": [
            "nous avons charger 185 HTML files de emplois.cm\n",
            "nous avons charger 2223 HTML files de job info\n"
          ]
        }
      ],
      "source": [
        "print(f\"nous avons charger {len(html_contents_emploiscm)} HTML files de emplois.cm\")\n",
        "print(f\"nous avons charger {len(html_contents_jobinfos)} HTML files de job info\")"
      ]
    },
    {
      "cell_type": "code",
      "execution_count": 20,
      "id": "c1642358-800a-48e3-b1a8-ef23596020f4",
      "metadata": {
        "id": "c1642358-800a-48e3-b1a8-ef23596020f4"
      },
      "outputs": [],
      "source": [
        "soup_objects_emploicm = []\n",
        "for html in html_contents_emploiscm:\n",
        "    soup = bs(html)\n",
        "    assert soup.title is not None\n",
        "    assert soup.body is not None\n",
        "    soup_objects_emploicm.append(soup)"
      ]
    },
    {
      "cell_type": "code",
      "execution_count": 21,
      "id": "ab63c9bf-d3c3-4d64-8a2a-e05903e59004",
      "metadata": {
        "id": "ab63c9bf-d3c3-4d64-8a2a-e05903e59004"
      },
      "outputs": [],
      "source": [
        "soup_objects_jobinfo = []\n",
        "for html in html_contents_jobinfos:\n",
        "    soup = bs(html)\n",
        "    assert soup.title is not None\n",
        "    assert soup.body is not None\n",
        "    soup_objects_jobinfo.append(soup)"
      ]
    },
    {
      "cell_type": "code",
      "execution_count": 22,
      "id": "10d6d4af-ba04-4484-b41f-34ef96b6f8e1",
      "metadata": {
        "id": "10d6d4af-ba04-4484-b41f-34ef96b6f8e1"
      },
      "outputs": [],
      "source": [
        "html_dict_emploicm = {'Title': [], 'Body': []}\n",
        "html_dict_jobinfo = {'Title': [], 'Body': []}"
      ]
    },
    {
      "cell_type": "code",
      "execution_count": 23,
      "id": "e43ed84f-a3ab-4cd5-b38d-c5029bb5bc42",
      "metadata": {
        "id": "e43ed84f-a3ab-4cd5-b38d-c5029bb5bc42"
      },
      "outputs": [],
      "source": [
        "for soup in soup_objects_emploicm :\n",
        "    divs = soup.findAll('div', class_=\"jobs-ad-details block\")\n",
        "    title = divs[0].find('span', attrs={'class':'ad-ss-title'})\n",
        "    title = str(title.text)\n",
        "    title = title.split(\":\")\n",
        "    title.pop(0)\n",
        "    title = ''.join(title)\n",
        "    body = divs[0].findAll('div', class_='content clearfix')\n",
        "    html_dict_emploicm['Title'].append(title)\n",
        "    html_dict_emploicm['Body'].append(body)"
      ]
    },
    {
      "cell_type": "code",
      "execution_count": 24,
      "id": "1ca496f7-f2fc-4504-9bba-2f69300cb868",
      "metadata": {
        "id": "1ca496f7-f2fc-4504-9bba-2f69300cb868"
      },
      "outputs": [],
      "source": [
        "for soup in soup_objects_jobinfo :\n",
        "    title = soup.find('div', class_='headline')\n",
        "    title = title.find('h2').text.strip()\n",
        "    body = soup.findAll('div', class_='job-description')\n",
        "    html_dict_jobinfo['Title'].append(title)\n",
        "    html_dict_jobinfo['Body'].append(body)"
      ]
    },
    {
      "cell_type": "code",
      "execution_count": 25,
      "id": "d4bf8a98-2981-419b-8a96-54cf59ec5874",
      "metadata": {
        "id": "d4bf8a98-2981-419b-8a96-54cf59ec5874"
      },
      "outputs": [],
      "source": [
        "df_jobs = pd.DataFrame(html_dict_jobinfo)\n",
        "df_emploi = pd.DataFrame(html_dict_emploicm)\n"
      ]
    },
    {
      "cell_type": "code",
      "execution_count": 26,
      "id": "2fe95e7e-e667-494b-8324-361670da1476",
      "metadata": {
        "id": "2fe95e7e-e667-494b-8324-361670da1476"
      },
      "outputs": [],
      "source": [
        "assert len(set(html_contents_emploiscm )) == len(html_contents_emploiscm)"
      ]
    },
    {
      "cell_type": "code",
      "execution_count": 27,
      "id": "55751e73-2798-4b65-b156-7e9c3a760011",
      "metadata": {
        "id": "55751e73-2798-4b65-b156-7e9c3a760011"
      },
      "outputs": [],
      "source": [
        "assert len(set(html_contents_jobinfos)) == len(html_contents_jobinfos)"
      ]
    },
    {
      "cell_type": "code",
      "execution_count": 28,
      "id": "cb46b31f-335f-4868-b7ed-3359babef062",
      "metadata": {
        "id": "cb46b31f-335f-4868-b7ed-3359babef062"
      },
      "outputs": [],
      "source": [
        "df_jobs['jobs'] =[[' '.join (bullet.text.strip()\n",
        "                      for bullet in soup[0].find_all('li'))]\n",
        "                      for soup in html_dict_jobinfo['Body']]"
      ]
    },
    {
      "cell_type": "code",
      "execution_count": 29,
      "id": "7316b47d-0f1b-4296-92e3-7667b5e7d939",
      "metadata": {
        "id": "7316b47d-0f1b-4296-92e3-7667b5e7d939"
      },
      "outputs": [],
      "source": [
        "df_emploi['jobs'] = [[' '.join (bullet.text.strip()\n",
        "                      for bullet in soup[0].find_all('li'))]\n",
        "                      for soup in html_dict_emploicm['Body']]"
      ]
    },
    {
      "cell_type": "code",
      "execution_count": 32,
      "id": "4840bccb-cad2-4693-a354-8f07a1a1bd74",
      "metadata": {
        "colab": {
          "base_uri": "https://localhost:8080/"
        },
        "id": "4840bccb-cad2-4693-a354-8f07a1a1bd74",
        "outputId": "8bd1295c-8a50-4856-d6ab-b48e1047026d"
      },
      "outputs": [
        {
          "output_type": "stream",
          "name": "stdout",
          "text": [
            "100.00% of the postings contain jobs\n"
          ]
        }
      ],
      "source": [
        "bulleted_post_count = 0\n",
        "for bullet_list in df_emploi.jobs:\n",
        "    if bullet_list:\n",
        "        bulleted_post_count += 1\n",
        " \n",
        "percent_bulleted = 100 * bulleted_post_count / df_emploi.shape[0]\n",
        "print(f\"{percent_bulleted:.2f}% of the postings contain jobs\")\n"
      ]
    },
    {
      "cell_type": "code",
      "execution_count": 165,
      "id": "c4c08222-0861-4b31-b270-0fac25e02efb",
      "metadata": {
        "id": "c4c08222-0861-4b31-b270-0fac25e02efb"
      },
      "outputs": [],
      "source": [
        " df = df_emploi.append(df_jobs, ignore_index=True)"
      ]
    },
    {
      "cell_type": "code",
      "source": [
        "def remplace(text):\n",
        "  text = \" \".join(text)\n",
        "  return text.replace(\"’\",\" \")"
      ],
      "metadata": {
        "id": "Pg8g9tfkB_a5"
      },
      "id": "Pg8g9tfkB_a5",
      "execution_count": 130,
      "outputs": []
    },
    {
      "cell_type": "code",
      "source": [
        "df['jobs'] = df.jobs.apply(lambda x: remplace(text = x))"
      ],
      "metadata": {
        "id": "wMSXwcjZCVOH"
      },
      "id": "wMSXwcjZCVOH",
      "execution_count": 131,
      "outputs": []
    },
    {
      "cell_type": "code",
      "source": [
        "import unidecode\n",
        "import re\n",
        "\n",
        "class cleaner:\n",
        "\n",
        "    def __init__(self) -> None:\n",
        "        pass\n",
        "    \n",
        "   \n",
        "    def clean_text(sentence):\n",
        "        # sentence = \" \".join(sentence)\n",
        "        text=unicodedata.normalize('NFKD', sentence).encode('ascii', 'ignore').decode('utf8') \n",
        "        text =cleaner.remove_special_char(cleaner.extract_only_text(text))\n",
        "        # text = cleaner.extract_only_text(text)\n",
        "        return cleaner.remove_double_space(text)\n",
        "    \n",
        "    def remove_double_space(text):\n",
        "         return re.sub(r'([\\s])\\1{1,}|([\\.])\\1{1,}', r'\\1', str(text))\n",
        "        #  return unicodedata.normalize('NFKD', text).encode('ascii', 'ignore').decode('utf8')\n",
        "\n",
        "    def extract_only_text(text):\n",
        "        text= text.lower()\n",
        "        text= re.sub(r'[a-z0-9\\.\\-+_]+@[a-z0-9\\.\\-+_]+\\.[a-z]+', ' ', str(text))\n",
        "        text= re.sub(r'[^ ]+\\.[^ ]+', ' ', str(text))\n",
        "        text= re.sub(r\"’\", \" \",str(text))\n",
        "        # text = re.sub('\\S*www\\S*\\s?', ' ', str(text))\n",
        "        text = re.sub('http\\S+\\s*', ' ', str(text))\n",
        "        # text = re.sub('(\\d+\\.)+\\d*.*','',str(text))\n",
        "        text = re.sub('#S+', ' ', str(text))  # remove hashtags\n",
        "        text = re.sub('@S+', '  ', str(text))  # remove mentions\n",
        "        text = re.sub('\\s+', ' ', str(text))  # remove extra whitespace\n",
        "        text = re.sub(\"\\t\",' ',str(text))\n",
        "        text = re.sub('\\n|\\r',' ',str(text))\n",
        "        text = re.sub('[^\\x00-\\x7f]',' ',str(text))\n",
        "        text= re.sub(r'\\x00|\\uf001','fi',str(text))\n",
        "        text = re.sub(r'@+[A-Za-z0-9]+', ' ', str(text)) \n",
        "        text= re.sub(r'\\x0c',' ',str(text))\n",
        "        text= re.sub(r'www[a-z0-9\\.\\-+_]+\\.[a-z]+[/-][a-zA-Z]?[a-z\\-]+', r' ', str(text))\n",
        "        text = text.replace('\\\\xa0', ' ')  \n",
        "        # text= re.sub(r'\\uf005|\\uf006|\\uf10b|\\ue81e|\\ue811|\\ue80d|\\ue81a|\\ue803', r' ', str(text))\n",
        "      \n",
        "        return text\n",
        "    \n",
        "    def remove_special_char(text:str):\n",
        "        return re.sub(r\"[^a-zA-Z0-9\\-“”\\s\\'\\.]\",\"\", str(text))"
      ],
      "metadata": {
        "id": "IWKcaLzu579W"
      },
      "id": "IWKcaLzu579W",
      "execution_count": 133,
      "outputs": []
    },
    {
      "cell_type": "code",
      "source": [
        "# df[\"jobs\"] = df['jobs'].asty\n",
        "df['jobs'] = df.jobs.apply(lambda x: cleaner.clean_text(sentence = x))"
      ],
      "metadata": {
        "id": "lNH6Y7iz7NTW"
      },
      "id": "lNH6Y7iz7NTW",
      "execution_count": 134,
      "outputs": []
    },
    {
      "cell_type": "code",
      "source": [
        "data = df.drop(columns=\"Body\")\n",
        "\n",
        "data.to_csv('JobDescription.csv') "
      ],
      "metadata": {
        "id": "dPCSXB4L7Vxp"
      },
      "id": "dPCSXB4L7Vxp",
      "execution_count": 136,
      "outputs": []
    },
    {
      "cell_type": "code",
      "source": [
        "Df = pd.read_csv('JobDescription.csv', engine='python' ) \n",
        "Df= Df.drop(columns='Unnamed: 0')"
      ],
      "metadata": {
        "id": "w4hD5bYjAqDX"
      },
      "id": "w4hD5bYjAqDX",
      "execution_count": 137,
      "outputs": []
    },
    {
      "cell_type": "code",
      "execution_count": 162,
      "id": "86032f33-6e8e-4c6b-98f6-26905fc7b3d9",
      "metadata": {
        "id": "86032f33-6e8e-4c6b-98f6-26905fc7b3d9"
      },
      "outputs": [],
      "source": [
        "def rank_words(text_list,language):\n",
        "    my_stop_words = text.ENGLISH_STOP_WORDS.union([language])\n",
        "    vectorizer = TfidfVectorizer(stop_words=my_stop_words)\n",
        "    tfidf_matrix = vectorizer.fit_transform(text_list).toarray()\n",
        "    data = pd.DataFrame({'Words': vectorizer.get_feature_names(),\n",
        "                       'Summed TFIDF': tfidf_matrix.sum(axis=0)})\n",
        "    sorted_df = data.sort_values('Summed TFIDF', ascending=False)\n",
        "    return sorted_df\n",
        " \n"
      ]
    },
    {
      "cell_type": "code",
      "execution_count": 156,
      "id": "ba22e7d3-2783-45f8-934f-d245a7bea53d",
      "metadata": {
        "colab": {
          "base_uri": "https://localhost:8080/"
        },
        "id": "ba22e7d3-2783-45f8-934f-d245a7bea53d",
        "outputId": "da7413cb-48a6-4c32-fa92-4421fc736f7b"
      },
      "outputs": [
        {
          "output_type": "stream",
          "name": "stdout",
          "text": [
            "3846617\n"
          ]
        }
      ],
      "source": [
        "all_bullets = []\n",
        "for bullet_list in df.jobs:\n",
        "    all_bullets.extend(bullet_list)\n",
        " \n",
        "#sorted_df = rank_words(all_bullets, \"french\")\n",
        "#print(sorted_df[:5].to_string(index=False))\n",
        "print(len(all_bullets))"
      ]
    },
    {
      "cell_type": "code",
      "execution_count": 167,
      "id": "d7488253-e59a-4844-a2da-55246cdbfe19",
      "metadata": {
        "colab": {
          "base_uri": "https://localhost:8080/"
        },
        "id": "d7488253-e59a-4844-a2da-55246cdbfe19",
        "outputId": "1d7feb50-00f3-430b-c8c8-3da4958772f4"
      },
      "outputs": [
        {
          "output_type": "stream",
          "name": "stdout",
          "text": [
            "Words  Summed TFIDF\n",
            "   de    404.048858\n",
            "   et    326.604339\n",
            "  des    265.257640\n",
            "  les    193.759226\n",
            "   la    188.401870\n"
          ]
        },
        {
          "output_type": "stream",
          "name": "stderr",
          "text": [
            "/usr/local/lib/python3.8/dist-packages/sklearn/utils/deprecation.py:87: FutureWarning: Function get_feature_names is deprecated; get_feature_names is deprecated in 1.0 and will be removed in 1.2. Please use get_feature_names_out instead.\n",
            "  warnings.warn(msg, category=FutureWarning)\n"
          ]
        }
      ],
      "source": [
        "all_bullets = []\n",
        "for bullet_list in df.jobs:\n",
        "    all_bullets.extend(bullet_list)\n",
        " \n",
        "sorted_df = rank_words(all_bullets, \"french\")\n",
        "print(sorted_df[:5].to_string(index=False))\n",
        "# print(len(all_bullets))"
      ]
    },
    {
      "cell_type": "code",
      "source": [
        "sorted_df"
      ],
      "metadata": {
        "id": "Jqc5cDbrKyQb",
        "colab": {
          "base_uri": "https://localhost:8080/",
          "height": 424
        },
        "outputId": "9e9fb41d-fc48-4fdb-b1d0-f3e540a27848"
      },
      "id": "Jqc5cDbrKyQb",
      "execution_count": 168,
      "outputs": [
        {
          "output_type": "execute_result",
          "data": {
            "text/plain": [
              "              Words  Summed TFIDF\n",
              "5107             de    404.048858\n",
              "7069             et    326.604339\n",
              "5278            des    265.257640\n",
              "10427           les    193.759226\n",
              "10279            la    188.401870\n",
              "...             ...           ...\n",
              "5587    discernment      0.010019\n",
              "5600     discontent      0.010019\n",
              "10050           jds      0.010019\n",
              "14871  readjustment      0.010019\n",
              "5605       discreet      0.010019\n",
              "\n",
              "[19948 rows x 2 columns]"
            ],
            "text/html": [
              "\n",
              "  <div id=\"df-f395fab2-210b-4d02-8beb-197382417f4f\">\n",
              "    <div class=\"colab-df-container\">\n",
              "      <div>\n",
              "<style scoped>\n",
              "    .dataframe tbody tr th:only-of-type {\n",
              "        vertical-align: middle;\n",
              "    }\n",
              "\n",
              "    .dataframe tbody tr th {\n",
              "        vertical-align: top;\n",
              "    }\n",
              "\n",
              "    .dataframe thead th {\n",
              "        text-align: right;\n",
              "    }\n",
              "</style>\n",
              "<table border=\"1\" class=\"dataframe\">\n",
              "  <thead>\n",
              "    <tr style=\"text-align: right;\">\n",
              "      <th></th>\n",
              "      <th>Words</th>\n",
              "      <th>Summed TFIDF</th>\n",
              "    </tr>\n",
              "  </thead>\n",
              "  <tbody>\n",
              "    <tr>\n",
              "      <th>5107</th>\n",
              "      <td>de</td>\n",
              "      <td>404.048858</td>\n",
              "    </tr>\n",
              "    <tr>\n",
              "      <th>7069</th>\n",
              "      <td>et</td>\n",
              "      <td>326.604339</td>\n",
              "    </tr>\n",
              "    <tr>\n",
              "      <th>5278</th>\n",
              "      <td>des</td>\n",
              "      <td>265.257640</td>\n",
              "    </tr>\n",
              "    <tr>\n",
              "      <th>10427</th>\n",
              "      <td>les</td>\n",
              "      <td>193.759226</td>\n",
              "    </tr>\n",
              "    <tr>\n",
              "      <th>10279</th>\n",
              "      <td>la</td>\n",
              "      <td>188.401870</td>\n",
              "    </tr>\n",
              "    <tr>\n",
              "      <th>...</th>\n",
              "      <td>...</td>\n",
              "      <td>...</td>\n",
              "    </tr>\n",
              "    <tr>\n",
              "      <th>5587</th>\n",
              "      <td>discernment</td>\n",
              "      <td>0.010019</td>\n",
              "    </tr>\n",
              "    <tr>\n",
              "      <th>5600</th>\n",
              "      <td>discontent</td>\n",
              "      <td>0.010019</td>\n",
              "    </tr>\n",
              "    <tr>\n",
              "      <th>10050</th>\n",
              "      <td>jds</td>\n",
              "      <td>0.010019</td>\n",
              "    </tr>\n",
              "    <tr>\n",
              "      <th>14871</th>\n",
              "      <td>readjustment</td>\n",
              "      <td>0.010019</td>\n",
              "    </tr>\n",
              "    <tr>\n",
              "      <th>5605</th>\n",
              "      <td>discreet</td>\n",
              "      <td>0.010019</td>\n",
              "    </tr>\n",
              "  </tbody>\n",
              "</table>\n",
              "<p>19948 rows × 2 columns</p>\n",
              "</div>\n",
              "      <button class=\"colab-df-convert\" onclick=\"convertToInteractive('df-f395fab2-210b-4d02-8beb-197382417f4f')\"\n",
              "              title=\"Convert this dataframe to an interactive table.\"\n",
              "              style=\"display:none;\">\n",
              "        \n",
              "  <svg xmlns=\"http://www.w3.org/2000/svg\" height=\"24px\"viewBox=\"0 0 24 24\"\n",
              "       width=\"24px\">\n",
              "    <path d=\"M0 0h24v24H0V0z\" fill=\"none\"/>\n",
              "    <path d=\"M18.56 5.44l.94 2.06.94-2.06 2.06-.94-2.06-.94-.94-2.06-.94 2.06-2.06.94zm-11 1L8.5 8.5l.94-2.06 2.06-.94-2.06-.94L8.5 2.5l-.94 2.06-2.06.94zm10 10l.94 2.06.94-2.06 2.06-.94-2.06-.94-.94-2.06-.94 2.06-2.06.94z\"/><path d=\"M17.41 7.96l-1.37-1.37c-.4-.4-.92-.59-1.43-.59-.52 0-1.04.2-1.43.59L10.3 9.45l-7.72 7.72c-.78.78-.78 2.05 0 2.83L4 21.41c.39.39.9.59 1.41.59.51 0 1.02-.2 1.41-.59l7.78-7.78 2.81-2.81c.8-.78.8-2.07 0-2.86zM5.41 20L4 18.59l7.72-7.72 1.47 1.35L5.41 20z\"/>\n",
              "  </svg>\n",
              "      </button>\n",
              "      \n",
              "  <style>\n",
              "    .colab-df-container {\n",
              "      display:flex;\n",
              "      flex-wrap:wrap;\n",
              "      gap: 12px;\n",
              "    }\n",
              "\n",
              "    .colab-df-convert {\n",
              "      background-color: #E8F0FE;\n",
              "      border: none;\n",
              "      border-radius: 50%;\n",
              "      cursor: pointer;\n",
              "      display: none;\n",
              "      fill: #1967D2;\n",
              "      height: 32px;\n",
              "      padding: 0 0 0 0;\n",
              "      width: 32px;\n",
              "    }\n",
              "\n",
              "    .colab-df-convert:hover {\n",
              "      background-color: #E2EBFA;\n",
              "      box-shadow: 0px 1px 2px rgba(60, 64, 67, 0.3), 0px 1px 3px 1px rgba(60, 64, 67, 0.15);\n",
              "      fill: #174EA6;\n",
              "    }\n",
              "\n",
              "    [theme=dark] .colab-df-convert {\n",
              "      background-color: #3B4455;\n",
              "      fill: #D2E3FC;\n",
              "    }\n",
              "\n",
              "    [theme=dark] .colab-df-convert:hover {\n",
              "      background-color: #434B5C;\n",
              "      box-shadow: 0px 1px 3px 1px rgba(0, 0, 0, 0.15);\n",
              "      filter: drop-shadow(0px 1px 2px rgba(0, 0, 0, 0.3));\n",
              "      fill: #FFFFFF;\n",
              "    }\n",
              "  </style>\n",
              "\n",
              "      <script>\n",
              "        const buttonEl =\n",
              "          document.querySelector('#df-f395fab2-210b-4d02-8beb-197382417f4f button.colab-df-convert');\n",
              "        buttonEl.style.display =\n",
              "          google.colab.kernel.accessAllowed ? 'block' : 'none';\n",
              "\n",
              "        async function convertToInteractive(key) {\n",
              "          const element = document.querySelector('#df-f395fab2-210b-4d02-8beb-197382417f4f');\n",
              "          const dataTable =\n",
              "            await google.colab.kernel.invokeFunction('convertToInteractive',\n",
              "                                                     [key], {});\n",
              "          if (!dataTable) return;\n",
              "\n",
              "          const docLinkHtml = 'Like what you see? Visit the ' +\n",
              "            '<a target=\"_blank\" href=https://colab.research.google.com/notebooks/data_table.ipynb>data table notebook</a>'\n",
              "            + ' to learn more about interactive tables.';\n",
              "          element.innerHTML = '';\n",
              "          dataTable['output_type'] = 'display_data';\n",
              "          await google.colab.output.renderOutput(dataTable, element);\n",
              "          const docLink = document.createElement('div');\n",
              "          docLink.innerHTML = docLinkHtml;\n",
              "          element.appendChild(docLink);\n",
              "        }\n",
              "      </script>\n",
              "    </div>\n",
              "  </div>\n",
              "  "
            ]
          },
          "metadata": {},
          "execution_count": 168
        }
      ]
    },
    {
      "cell_type": "code",
      "execution_count": null,
      "id": "80e597e3-8486-4a1d-84f8-b7b29d996997",
      "metadata": {
        "id": "80e597e3-8486-4a1d-84f8-b7b29d996997"
      },
      "outputs": [],
      "source": []
    }
  ],
  "metadata": {
    "kernelspec": {
      "display_name": "Python 3 (ipykernel)",
      "language": "python",
      "name": "python3"
    },
    "language_info": {
      "codemirror_mode": {
        "name": "ipython",
        "version": 3
      },
      "file_extension": ".py",
      "mimetype": "text/x-python",
      "name": "python",
      "nbconvert_exporter": "python",
      "pygments_lexer": "ipython3",
      "version": "3.9.2"
    },
    "colab": {
      "provenance": [],
      "include_colab_link": true
    }
  },
  "nbformat": 4,
  "nbformat_minor": 5
}
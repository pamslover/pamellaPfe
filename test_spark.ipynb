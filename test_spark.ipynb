{
 "cells": [
  {
   "cell_type": "markdown",
   "metadata": {
    "collapsed": true,
    "pycharm": {
     "name": "#%% md\n"
    }
   },
   "source": [
    "# defi: hdfs to pyspark and reverse\n",
    "    - faire une communnication bidirectionnel entre spark hebergé sur la machine hote et hdfs hebergé sur docker(cluster hadoop)"
   ]
  },
  {
   "cell_type": "code",
   "execution_count": 1,
   "outputs": [],
   "source": [
    "from pyspark.sql import SparkSession"
   ],
   "metadata": {
    "collapsed": false,
    "pycharm": {
     "name": "#%%\n"
    }
   }
  },
  {
   "cell_type": "code",
   "execution_count": 2,
   "outputs": [
    {
     "name": "stderr",
     "output_type": "stream",
     "text": [
      "bash: warning: setlocale: LC_ALL: cannot change locale (en_US.UTF-8)\n",
      "bash: warning: setlocale: LC_ALL: cannot change locale (en_US.UTF-8)\n",
      "Picked up _JAVA_OPTIONS: -Dawt.useSystemAAFontSettings=on -Dswing.aatext=true\n",
      "Picked up _JAVA_OPTIONS: -Dawt.useSystemAAFontSettings=on -Dswing.aatext=true\n"
     ]
    },
    {
     "name": "stdout",
     "output_type": "stream",
     "text": [
      "22/11/30 13:39:58 WARN Utils: Your hostname, kaliAlphadeep resolves to a loopback address: 127.0.1.1; using 192.168.1.45 instead (on interface wlan0)\n",
      "22/11/30 13:39:58 WARN Utils: Set SPARK_LOCAL_IP if you need to bind to another address\n"
     ]
    },
    {
     "name": "stderr",
     "output_type": "stream",
     "text": [
      "Setting default log level to \"WARN\".\n",
      "To adjust logging level use sc.setLogLevel(newLevel). For SparkR, use setLogLevel(newLevel).\n"
     ]
    },
    {
     "name": "stdout",
     "output_type": "stream",
     "text": [
      "22/11/30 13:40:33 WARN NativeCodeLoader: Unable to load native-hadoop library for your platform... using builtin-java classes where applicable\n"
     ]
    }
   ],
   "source": [
    "spark = SparkSession.builder.appName('Deeplearn').getOrCreate()"
   ],
   "metadata": {
    "collapsed": false,
    "pycharm": {
     "name": "#%%\n"
    }
   }
  },
  {
   "cell_type": "code",
   "execution_count": 3,
   "outputs": [],
   "source": [
    "df = spark.read.csv(\"hdfs://172.21.0.2:9000/data/job.csv\")"
   ],
   "metadata": {
    "collapsed": false,
    "pycharm": {
     "name": "#%%\n"
    }
   }
  },
  {
   "cell_type": "code",
   "execution_count": 10,
   "outputs": [
    {
     "name": "stdout",
     "output_type": "stream",
     "text": [
      "+--------------------+\n",
      "|                 _c0|\n",
      "+--------------------+\n",
      "|                 job|\n",
      "|Détails de l'anno...|\n",
      "|Détails de l'anno...|\n",
      "|Détails de l'anno...|\n",
      "|Détails de l'anno...|\n",
      "|Détails de l'anno...|\n",
      "|Détails de l'anno...|\n",
      "|Détails de l'anno...|\n",
      "|Détails de l'anno...|\n",
      "|Détails de l'anno...|\n",
      "|Détails de l'anno...|\n",
      "|Détails de l'anno...|\n",
      "|Détails de l'anno...|\n",
      "|Détails de l'anno...|\n",
      "|Détails de l'anno...|\n",
      "|Détails de l'anno...|\n",
      "|Détails de l'anno...|\n",
      "|Détails de l'anno...|\n",
      "|Détails de l'anno...|\n",
      "|Détails de l'anno...|\n",
      "+--------------------+\n",
      "only showing top 20 rows\n",
      "\n"
     ]
    }
   ],
   "source": [
    "df.show()"
   ],
   "metadata": {
    "collapsed": false,
    "pycharm": {
     "name": "#%%\n"
    }
   }
  },
  {
   "cell_type": "code",
   "execution_count": 6,
   "outputs": [
    {
     "data": {
      "text/plain": "DataFrame[summary: string, _c0: string]"
     },
     "execution_count": 6,
     "metadata": {},
     "output_type": "execute_result"
    }
   ],
   "source": [
    "df.describe()"
   ],
   "metadata": {
    "collapsed": false,
    "pycharm": {
     "name": "#%%\n"
    }
   }
  },
  {
   "cell_type": "code",
   "execution_count": 7,
   "outputs": [
    {
     "data": {
      "text/plain": "8166"
     },
     "execution_count": 7,
     "metadata": {},
     "output_type": "execute_result"
    }
   ],
   "source": [
    "df.count()"
   ],
   "metadata": {
    "collapsed": false,
    "pycharm": {
     "name": "#%%\n"
    }
   }
  },
  {
   "cell_type": "code",
   "execution_count": 12,
   "outputs": [
    {
     "data": {
      "text/plain": "['_c0']"
     },
     "execution_count": 12,
     "metadata": {},
     "output_type": "execute_result"
    }
   ],
   "source": [
    "df.columns"
   ],
   "metadata": {
    "collapsed": false,
    "pycharm": {
     "name": "#%%\n"
    }
   }
  },
  {
   "cell_type": "code",
   "execution_count": 9,
   "outputs": [
    {
     "name": "stderr",
     "output_type": "stream",
     "text": [
      "                                                                                \r"
     ]
    },
    {
     "name": "stdout",
     "output_type": "stream",
     "text": [
      "Row(_c0=\"Détails de l'annonce Poste proposé : Secrétaire Commercial Nous recrutons une Secrétaire Commercial pour un Stage Payant . Responsabilités Principales : Exécution des différentes commissions de sa hiérarchie : Effectue les opérations classiques de secrétariat et d’accueil : réception et orientation  des clients,  archivage, ouverture et affectation du courrier, gestion des boites mail de l’entreprise et répondre aux courriels Filtrer les appels et prospecter sur les différentes plates formes préparation des éléments de réponse  au différents partenaire, rédaction de correspondance, filtrage des appels téléphoniques, gestion des fournitures matériels et travaux externe, mise à jour des bases de données, des fichiers, Réalise et / ou centralise les comptes rendus et les différents rapports en direction de sa hiérarchie Rédige  les différentes notes internes à partir d’instructions orales ou manuscrites, les soumettre au contrôle et à la signature, les reproduit et les diffuse. Réception, orientation et gestion des visiteurs Suivi de démarches administratives diverses Suivi de divers abonnements ********************* Chèr(e) candidat(e) N’ envoyez pas d’argent à un employeur potentiel . Ne versez aucune somme d’argent en échange d’un contrat de travail potentiel. Profil recherché pour le poste : Secrétaire Commercial Profil du poste Formation en  secrétariat, marketing commerce vente ou équivalent Niveau d'expérience minimum : minimum 1 an Très bonne connaissance des outils Excel, Word et PowerPoint Très bonne maîtrise du français et de l'anglais dans l'expression orale et écrite. Bonne connaissances du marché de l’immigration et la formation linguistique Compétences : Avoir déjà travailler dans une agence d'immigration est un atout Autres Qualités relationnelles : réactivité sens de l’écoute, diplomatie, patience Créativité et sens de l'organisation du travail. Excellentes capacités de travail en équipe, d'analyse et de communication. Souplesse dans l'exécution des tâches. Adhésion au projet d’entreprise Aisance rédactionnelle et relationnelle Très bonne maîtrise de l’outil informatique Bonne présentation Sens des responsabilités, respect des procédures. Dossier de candidature : Curriculum Vitae actualisé avec photo. Merci de nous envoyer votre CV via ce site . Critères de l'annonce pour le poste : Secrétaire Commercial Métier : Marketing, communication Secretariat, assistanat Secteur d´activité : Location Marketing, communication, médias Secrétariat Services autres Tourisme, loisirs Type de contrat : CDD - Stage Région : Douala Ville : Douala Niveau d'expérience : Débutant < 2 ans Niveau d'études : Bac Langues exigées : anglais › intermédiaire français › maternelle Nombre de poste(s) : 1\")\n"
     ]
    }
   ],
   "source": [
    "print(df.collect()[1])"
   ],
   "metadata": {
    "collapsed": false,
    "pycharm": {
     "name": "#%%\n"
    }
   }
  },
  {
   "cell_type": "code",
   "execution_count": 13,
   "outputs": [
    {
     "name": "stdout",
     "output_type": "stream",
     "text": [
      "Row(_c0=\"Détails de l'annonce Poste proposé : Commercial Missions : Élaboration des stratégies marketing et commerciale Création ou renforcement de fichier fournisseur et client Définition des actions commerciales et de communication Proposition des supports de communication adaptés aux objectifs et cibles retenus Supervision la rédaction de la documentation promotionnelle Publication de journal interne Recensement des manifestations nationales et internationales susceptibles de correspondre aux objectifs de développement de Pinto Company Supervision de la confection du matériel promotionnel Élaboration de les messages et campagnes de sensibilisation du public Définition de la couverture médiatique des évènements organisés par Pinto Company elle-même et celle des missions de promotion économique à l’extérieur du pays Animation des réseaux sociaux Prospection. Profil recherché pour le poste : Commercial Bac+2 en action commercial, marketing Au moins 12 mois d’expérience professionnel Avoir des compétences en Community management Avoir une bonne connaissance des techniques de vente et surtout un contact facile Être hyper motivé et travailleur Avoir l’esprit d’équipe Être capable de travailler sous pression Age maximum 34 ans. ********************* Chèr(e) candidat(e) N’envoyez pas d’argent à un employeur potentiel. Ne versez aucune somme d’argent en échange d’un contrat de travail potentiel. Critères de l'annonce pour le poste : Commercial Métier : Achats Commercial, vente Marketing, communication Secteur d´activité : Marketing, communication, médias Services collectifs et sociaux, services à la personne Type de contrat : CDI - Freelance - Temps partiel Région : Douala Ville : Douala Niveau d'expérience : Débutant < 2 ans Niveau d'études : Bac+2 Langues exigées : anglais › débutant français › bon niveau Nombre de poste(s) : 1\")\n"
     ]
    }
   ],
   "source": [
    "print(df.collect()[25])"
   ],
   "metadata": {
    "collapsed": false,
    "pycharm": {
     "name": "#%%\n"
    }
   }
  },
  {
   "cell_type": "code",
   "execution_count": null,
   "outputs": [],
   "source": [],
   "metadata": {
    "collapsed": false,
    "pycharm": {
     "name": "#%%\n"
    }
   }
  }
 ],
 "metadata": {
  "kernelspec": {
   "display_name": "Python 3",
   "language": "python",
   "name": "python3"
  },
  "language_info": {
   "codemirror_mode": {
    "name": "ipython",
    "version": 2
   },
   "file_extension": ".py",
   "mimetype": "text/x-python",
   "name": "python",
   "nbconvert_exporter": "python",
   "pygments_lexer": "ipython2",
   "version": "2.7.6"
  }
 },
 "nbformat": 4,
 "nbformat_minor": 0
}